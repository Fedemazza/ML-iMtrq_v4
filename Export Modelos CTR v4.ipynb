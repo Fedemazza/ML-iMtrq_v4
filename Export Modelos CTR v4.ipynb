{
 "cells": [
  {
   "cell_type": "markdown",
   "id": "6c80bb1c-3c04-4a8d-a8d0-0f43dbcf6d9e",
   "metadata": {},
   "source": [
    "# Modelos de Machine Learning: Benchmarks"
   ]
  },
  {
   "cell_type": "markdown",
   "id": "423d49f0-29e0-49fc-b4ed-7e09b0a508d1",
   "metadata": {},
   "source": [
    "## Intro"
   ]
  },
  {
   "cell_type": "markdown",
   "id": "c86f696a-f648-45bd-8d73-54de33e0ba7d",
   "metadata": {},
   "source": [
    "## Config"
   ]
  },
  {
   "cell_type": "code",
   "execution_count": 1,
   "id": "099a5ff8-7a29-41d1-8742-185ee34be245",
   "metadata": {},
   "outputs": [],
   "source": [
    "Variable_Target = 'CTR'\n",
    "version = '4'\n",
    "\n",
    "nombre_scaler = 'scaler_model_'+Variable_Target+'_v'+version+'.joblib'\n",
    "nombre_pca = 'pca_model_'+Variable_Target+'_v'+version+'.joblib'\n",
    "\n",
    "nombre_RF = 'model_rf_'+Variable_Target+'_v'+version+'.joblib'\n",
    "nombre_XGB = 'model_xgboost_'+Variable_Target+'_v'+version+'.json'\n",
    "nombre_NN = 'model_NN_'+Variable_Target+'_v'+version+'.joblib'\n",
    "nombre_scaler_NN = 'scaler_NN_model_'+Variable_Target+'_v'+version+'.joblib'\n"
   ]
  },
  {
   "cell_type": "markdown",
   "id": "0758041d-77ac-4267-811f-4235b71c5f7c",
   "metadata": {},
   "source": [
    "### Imports"
   ]
  },
  {
   "cell_type": "code",
   "execution_count": 2,
   "id": "164679ee-5a17-4682-9220-e2cdf4eca59f",
   "metadata": {},
   "outputs": [],
   "source": [
    "import pandas as pd\n",
    "import numpy as np\n",
    "import joblib\n",
    "from sklearn.model_selection import train_test_split\n",
    "from sklearn.linear_model import LinearRegression\n",
    "from sklearn.preprocessing import OneHotEncoder\n",
    "from sklearn.compose import ColumnTransformer\n",
    "from sklearn.pipeline import Pipeline\n",
    "from sklearn.metrics import mean_squared_error\n",
    "from sklearn.metrics import mean_absolute_error\n",
    "from sklearn.metrics import r2_score\n",
    "from sklearn.decomposition import PCA\n",
    "import math\n",
    "import altair as alt"
   ]
  },
  {
   "cell_type": "markdown",
   "id": "26a139eb-7136-4ab2-afcc-0454284221b6",
   "metadata": {},
   "source": [
    "### Carga de Datos"
   ]
  },
  {
   "cell_type": "code",
   "execution_count": 3,
   "id": "96f17c7a-1b85-4e35-8de0-d0ece22d1530",
   "metadata": {},
   "outputs": [],
   "source": [
    "def load_data(df_in):\n",
    "    df = pd.read_csv(df_in+'.csv')\n",
    "    df = df.drop(\"Unnamed: 0\", axis=1)\n",
    "    return df\n",
    "\n",
    "# Cargar los datos\n",
    "df = load_data('df_C_S_v4')\n",
    "df = df[df['Client'] != 'Boxto']\n",
    "#df = df[df['Client'] != 'AOV']\n",
    "df = df.reset_index()"
   ]
  },
  {
   "cell_type": "markdown",
   "id": "c05b8c56-04f3-440a-943d-218ce84fe5cd",
   "metadata": {},
   "source": [
    "### Elección Output y features"
   ]
  },
  {
   "cell_type": "markdown",
   "id": "66cd404d-058c-4996-964d-4dbf3b243811",
   "metadata": {},
   "source": [
    "La regla empírica establece que:\n",
    "\n",
    "aproximadamente el 68% de los datos caerán dentro de 1 desviación estándar de la media,\n",
    "\n",
    "alrededor del 95% de los datos caerán dentro de 2 desviaciones estándar y\n",
    "\n",
    "aproximadamente el 99.7% de los datos caerán dentro de 3 desviaciones estándar de la media."
   ]
  },
  {
   "cell_type": "code",
   "execution_count": 4,
   "id": "4766c1ba-e8d8-4a82-8f5c-bb2e2ec48763",
   "metadata": {},
   "outputs": [
    {
     "data": {
      "text/plain": [
       "(4255, 56)"
      ]
     },
     "execution_count": 4,
     "metadata": {},
     "output_type": "execute_result"
    }
   ],
   "source": [
    "\n",
    "\n",
    "# Calcular la media y la desviación estándar de la variable objetivo y\n",
    "mean_y, std_y = np.mean(df[Variable_Target]), np.std(df[Variable_Target])\n",
    "outlier_threshold = 3 * std_y\n",
    "\n",
    "max_y = mean_y + (3 * std_y)\n",
    "min_y = mean_y - (3 * std_y)\n",
    "\n",
    "df = df[df[Variable_Target] <= max_y]\n",
    "df = df[df[Variable_Target] >= min_y]\n",
    "df.shape"
   ]
  },
  {
   "cell_type": "code",
   "execution_count": 5,
   "id": "387e3078-be68-428a-9b84-f695929e4842",
   "metadata": {},
   "outputs": [],
   "source": [
    "X = df.copy()\n",
    "X = pd.DataFrame(X, columns=['Client','Año','Mes', 'Objective', 'Cost', 'Country', 'Media_type', 'Traffic_source', 'Format_New','Platform','Strategy','Plataforma','Campaign_Type','Ecommerce','Service_Product',#])#,'Client'\n",
    "                            'Bench Gral CPC','Bench Search CPC','Bench GralSch CPL', 'Bench Search CPL','Bench GralSch CTR', 'Bench Search CTR', 'Bench GralSch CR','Bench Search AvgCR',\n",
    "                             'Bench GralFB CPC', 'Bench FB CPC','Bench GralFB CPAction', 'Bench FB CPAction', 'Bench GralFB CTR', 'Bench FB CTR', 'Bench GralFB CR', 'Bench FB AvgCR'\n",
    "                             ,'Bench GralYT CPV', 'Bench YT CPV', 'Bench GralYT CTR', 'Bench YT CTR','Bench GralYT VR', 'Bench FB AvgVR'])\n",
    "\n"
   ]
  },
  {
   "cell_type": "code",
   "execution_count": 6,
   "id": "5dd21dd9-aea0-4f80-a63c-11055783e86d",
   "metadata": {},
   "outputs": [
    {
     "data": {
      "text/html": [
       "<div>\n",
       "<style scoped>\n",
       "    .dataframe tbody tr th:only-of-type {\n",
       "        vertical-align: middle;\n",
       "    }\n",
       "\n",
       "    .dataframe tbody tr th {\n",
       "        vertical-align: top;\n",
       "    }\n",
       "\n",
       "    .dataframe thead th {\n",
       "        text-align: right;\n",
       "    }\n",
       "</style>\n",
       "<table border=\"1\" class=\"dataframe\">\n",
       "  <thead>\n",
       "    <tr style=\"text-align: right;\">\n",
       "      <th></th>\n",
       "      <th>Client</th>\n",
       "      <th>Año</th>\n",
       "      <th>Mes</th>\n",
       "      <th>Objective</th>\n",
       "      <th>Cost</th>\n",
       "      <th>Country</th>\n",
       "      <th>Media_type</th>\n",
       "      <th>Traffic_source</th>\n",
       "      <th>Format_New</th>\n",
       "      <th>Platform</th>\n",
       "      <th>...</th>\n",
       "      <th>Bench GralFB CTR</th>\n",
       "      <th>Bench FB CTR</th>\n",
       "      <th>Bench GralFB CR</th>\n",
       "      <th>Bench FB AvgCR</th>\n",
       "      <th>Bench GralYT CPV</th>\n",
       "      <th>Bench YT CPV</th>\n",
       "      <th>Bench GralYT CTR</th>\n",
       "      <th>Bench YT CTR</th>\n",
       "      <th>Bench GralYT VR</th>\n",
       "      <th>Bench FB AvgVR</th>\n",
       "    </tr>\n",
       "  </thead>\n",
       "  <tbody>\n",
       "    <tr>\n",
       "      <th>0</th>\n",
       "      <td>Hughesnet</td>\n",
       "      <td>2023</td>\n",
       "      <td>4</td>\n",
       "      <td>Fans</td>\n",
       "      <td>86.778068</td>\n",
       "      <td>Mexico</td>\n",
       "      <td>Social</td>\n",
       "      <td>Facebook</td>\n",
       "      <td>Display</td>\n",
       "      <td>Facebook&amp;Instagram</td>\n",
       "      <td>...</td>\n",
       "      <td>0.9</td>\n",
       "      <td>1.04</td>\n",
       "      <td>9.21</td>\n",
       "      <td>2.31</td>\n",
       "      <td>0.048</td>\n",
       "      <td>0.048</td>\n",
       "      <td>0.65</td>\n",
       "      <td>0.33</td>\n",
       "      <td>31.9</td>\n",
       "      <td>31.9</td>\n",
       "    </tr>\n",
       "    <tr>\n",
       "      <th>1</th>\n",
       "      <td>Hughesnet</td>\n",
       "      <td>2023</td>\n",
       "      <td>4</td>\n",
       "      <td>Purchase</td>\n",
       "      <td>208.035266</td>\n",
       "      <td>Chile</td>\n",
       "      <td>Unknown</td>\n",
       "      <td>Google</td>\n",
       "      <td>Display</td>\n",
       "      <td>Discovery</td>\n",
       "      <td>...</td>\n",
       "      <td>0.9</td>\n",
       "      <td>1.04</td>\n",
       "      <td>9.21</td>\n",
       "      <td>2.31</td>\n",
       "      <td>0.048</td>\n",
       "      <td>0.048</td>\n",
       "      <td>0.65</td>\n",
       "      <td>0.33</td>\n",
       "      <td>31.9</td>\n",
       "      <td>31.9</td>\n",
       "    </tr>\n",
       "    <tr>\n",
       "      <th>2</th>\n",
       "      <td>Hughesnet</td>\n",
       "      <td>2023</td>\n",
       "      <td>4</td>\n",
       "      <td>Purchase</td>\n",
       "      <td>169.859977</td>\n",
       "      <td>Colombia</td>\n",
       "      <td>Unknown</td>\n",
       "      <td>Google</td>\n",
       "      <td>Display</td>\n",
       "      <td>Discovery</td>\n",
       "      <td>...</td>\n",
       "      <td>0.9</td>\n",
       "      <td>1.04</td>\n",
       "      <td>9.21</td>\n",
       "      <td>2.31</td>\n",
       "      <td>0.048</td>\n",
       "      <td>0.048</td>\n",
       "      <td>0.65</td>\n",
       "      <td>0.33</td>\n",
       "      <td>31.9</td>\n",
       "      <td>31.9</td>\n",
       "    </tr>\n",
       "    <tr>\n",
       "      <th>3</th>\n",
       "      <td>Hughesnet</td>\n",
       "      <td>2023</td>\n",
       "      <td>4</td>\n",
       "      <td>Purchase</td>\n",
       "      <td>192.010904</td>\n",
       "      <td>Mexico</td>\n",
       "      <td>Unknown</td>\n",
       "      <td>Google</td>\n",
       "      <td>Display</td>\n",
       "      <td>Discovery</td>\n",
       "      <td>...</td>\n",
       "      <td>0.9</td>\n",
       "      <td>1.04</td>\n",
       "      <td>9.21</td>\n",
       "      <td>2.31</td>\n",
       "      <td>0.048</td>\n",
       "      <td>0.048</td>\n",
       "      <td>0.65</td>\n",
       "      <td>0.33</td>\n",
       "      <td>31.9</td>\n",
       "      <td>31.9</td>\n",
       "    </tr>\n",
       "    <tr>\n",
       "      <th>4</th>\n",
       "      <td>Hughesnet</td>\n",
       "      <td>2023</td>\n",
       "      <td>4</td>\n",
       "      <td>Reach</td>\n",
       "      <td>585.975296</td>\n",
       "      <td>Mexico</td>\n",
       "      <td>Unknown</td>\n",
       "      <td>Google</td>\n",
       "      <td>Display</td>\n",
       "      <td>Discovery</td>\n",
       "      <td>...</td>\n",
       "      <td>0.9</td>\n",
       "      <td>1.04</td>\n",
       "      <td>9.21</td>\n",
       "      <td>2.31</td>\n",
       "      <td>0.048</td>\n",
       "      <td>0.048</td>\n",
       "      <td>0.65</td>\n",
       "      <td>0.33</td>\n",
       "      <td>31.9</td>\n",
       "      <td>31.9</td>\n",
       "    </tr>\n",
       "    <tr>\n",
       "      <th>...</th>\n",
       "      <td>...</td>\n",
       "      <td>...</td>\n",
       "      <td>...</td>\n",
       "      <td>...</td>\n",
       "      <td>...</td>\n",
       "      <td>...</td>\n",
       "      <td>...</td>\n",
       "      <td>...</td>\n",
       "      <td>...</td>\n",
       "      <td>...</td>\n",
       "      <td>...</td>\n",
       "      <td>...</td>\n",
       "      <td>...</td>\n",
       "      <td>...</td>\n",
       "      <td>...</td>\n",
       "      <td>...</td>\n",
       "      <td>...</td>\n",
       "      <td>...</td>\n",
       "      <td>...</td>\n",
       "      <td>...</td>\n",
       "      <td>...</td>\n",
       "    </tr>\n",
       "    <tr>\n",
       "      <th>4350</th>\n",
       "      <td>AOV</td>\n",
       "      <td>2022</td>\n",
       "      <td>10</td>\n",
       "      <td>Conversion</td>\n",
       "      <td>244.890000</td>\n",
       "      <td>USA</td>\n",
       "      <td>Search</td>\n",
       "      <td>Google</td>\n",
       "      <td>Display</td>\n",
       "      <td>NoPlatform</td>\n",
       "      <td>...</td>\n",
       "      <td>0.9</td>\n",
       "      <td>0.90</td>\n",
       "      <td>9.21</td>\n",
       "      <td>2.82</td>\n",
       "      <td>0.048</td>\n",
       "      <td>0.047</td>\n",
       "      <td>0.65</td>\n",
       "      <td>0.78</td>\n",
       "      <td>31.9</td>\n",
       "      <td>29.6</td>\n",
       "    </tr>\n",
       "    <tr>\n",
       "      <th>4351</th>\n",
       "      <td>AOV</td>\n",
       "      <td>2022</td>\n",
       "      <td>10</td>\n",
       "      <td>Conversion</td>\n",
       "      <td>121.830000</td>\n",
       "      <td>USA</td>\n",
       "      <td>Unknown</td>\n",
       "      <td>Google</td>\n",
       "      <td>Display</td>\n",
       "      <td>NoPlatform</td>\n",
       "      <td>...</td>\n",
       "      <td>0.9</td>\n",
       "      <td>0.90</td>\n",
       "      <td>9.21</td>\n",
       "      <td>2.82</td>\n",
       "      <td>0.048</td>\n",
       "      <td>0.047</td>\n",
       "      <td>0.65</td>\n",
       "      <td>0.78</td>\n",
       "      <td>31.9</td>\n",
       "      <td>29.6</td>\n",
       "    </tr>\n",
       "    <tr>\n",
       "      <th>4352</th>\n",
       "      <td>AOV</td>\n",
       "      <td>2022</td>\n",
       "      <td>10</td>\n",
       "      <td>Conversion</td>\n",
       "      <td>51.762706</td>\n",
       "      <td>USA</td>\n",
       "      <td>Display</td>\n",
       "      <td>Google</td>\n",
       "      <td>Display</td>\n",
       "      <td>NoPlatform</td>\n",
       "      <td>...</td>\n",
       "      <td>0.9</td>\n",
       "      <td>0.90</td>\n",
       "      <td>9.21</td>\n",
       "      <td>2.82</td>\n",
       "      <td>0.048</td>\n",
       "      <td>0.047</td>\n",
       "      <td>0.65</td>\n",
       "      <td>0.78</td>\n",
       "      <td>31.9</td>\n",
       "      <td>29.6</td>\n",
       "    </tr>\n",
       "    <tr>\n",
       "      <th>4353</th>\n",
       "      <td>AOV</td>\n",
       "      <td>2022</td>\n",
       "      <td>10</td>\n",
       "      <td>Conversion</td>\n",
       "      <td>285.160000</td>\n",
       "      <td>USA</td>\n",
       "      <td>Search</td>\n",
       "      <td>Google</td>\n",
       "      <td>Display</td>\n",
       "      <td>NoPlatform</td>\n",
       "      <td>...</td>\n",
       "      <td>0.9</td>\n",
       "      <td>0.90</td>\n",
       "      <td>9.21</td>\n",
       "      <td>2.82</td>\n",
       "      <td>0.048</td>\n",
       "      <td>0.047</td>\n",
       "      <td>0.65</td>\n",
       "      <td>0.78</td>\n",
       "      <td>31.9</td>\n",
       "      <td>29.6</td>\n",
       "    </tr>\n",
       "    <tr>\n",
       "      <th>4354</th>\n",
       "      <td>AOV</td>\n",
       "      <td>2022</td>\n",
       "      <td>10</td>\n",
       "      <td>Conversion</td>\n",
       "      <td>107.230000</td>\n",
       "      <td>USA</td>\n",
       "      <td>Unknown</td>\n",
       "      <td>Google</td>\n",
       "      <td>Display</td>\n",
       "      <td>NoPlatform</td>\n",
       "      <td>...</td>\n",
       "      <td>0.9</td>\n",
       "      <td>0.90</td>\n",
       "      <td>9.21</td>\n",
       "      <td>2.82</td>\n",
       "      <td>0.048</td>\n",
       "      <td>0.047</td>\n",
       "      <td>0.65</td>\n",
       "      <td>0.78</td>\n",
       "      <td>31.9</td>\n",
       "      <td>29.6</td>\n",
       "    </tr>\n",
       "  </tbody>\n",
       "</table>\n",
       "<p>4255 rows × 37 columns</p>\n",
       "</div>"
      ],
      "text/plain": [
       "         Client   Año  Mes   Objective        Cost   Country Media_type  \\\n",
       "0     Hughesnet  2023    4        Fans   86.778068    Mexico     Social   \n",
       "1     Hughesnet  2023    4    Purchase  208.035266     Chile    Unknown   \n",
       "2     Hughesnet  2023    4    Purchase  169.859977  Colombia    Unknown   \n",
       "3     Hughesnet  2023    4    Purchase  192.010904    Mexico    Unknown   \n",
       "4     Hughesnet  2023    4       Reach  585.975296    Mexico    Unknown   \n",
       "...         ...   ...  ...         ...         ...       ...        ...   \n",
       "4350        AOV  2022   10  Conversion  244.890000       USA     Search   \n",
       "4351        AOV  2022   10  Conversion  121.830000       USA    Unknown   \n",
       "4352        AOV  2022   10  Conversion   51.762706       USA    Display   \n",
       "4353        AOV  2022   10  Conversion  285.160000       USA     Search   \n",
       "4354        AOV  2022   10  Conversion  107.230000       USA    Unknown   \n",
       "\n",
       "     Traffic_source Format_New            Platform  ... Bench GralFB CTR  \\\n",
       "0          Facebook    Display  Facebook&Instagram  ...              0.9   \n",
       "1            Google    Display           Discovery  ...              0.9   \n",
       "2            Google    Display           Discovery  ...              0.9   \n",
       "3            Google    Display           Discovery  ...              0.9   \n",
       "4            Google    Display           Discovery  ...              0.9   \n",
       "...             ...        ...                 ...  ...              ...   \n",
       "4350         Google    Display          NoPlatform  ...              0.9   \n",
       "4351         Google    Display          NoPlatform  ...              0.9   \n",
       "4352         Google    Display          NoPlatform  ...              0.9   \n",
       "4353         Google    Display          NoPlatform  ...              0.9   \n",
       "4354         Google    Display          NoPlatform  ...              0.9   \n",
       "\n",
       "     Bench FB CTR Bench GralFB CR Bench FB AvgCR Bench GralYT CPV  \\\n",
       "0            1.04            9.21           2.31            0.048   \n",
       "1            1.04            9.21           2.31            0.048   \n",
       "2            1.04            9.21           2.31            0.048   \n",
       "3            1.04            9.21           2.31            0.048   \n",
       "4            1.04            9.21           2.31            0.048   \n",
       "...           ...             ...            ...              ...   \n",
       "4350         0.90            9.21           2.82            0.048   \n",
       "4351         0.90            9.21           2.82            0.048   \n",
       "4352         0.90            9.21           2.82            0.048   \n",
       "4353         0.90            9.21           2.82            0.048   \n",
       "4354         0.90            9.21           2.82            0.048   \n",
       "\n",
       "      Bench YT CPV  Bench GralYT CTR  Bench YT CTR  Bench GralYT VR  \\\n",
       "0            0.048              0.65          0.33             31.9   \n",
       "1            0.048              0.65          0.33             31.9   \n",
       "2            0.048              0.65          0.33             31.9   \n",
       "3            0.048              0.65          0.33             31.9   \n",
       "4            0.048              0.65          0.33             31.9   \n",
       "...            ...               ...           ...              ...   \n",
       "4350         0.047              0.65          0.78             31.9   \n",
       "4351         0.047              0.65          0.78             31.9   \n",
       "4352         0.047              0.65          0.78             31.9   \n",
       "4353         0.047              0.65          0.78             31.9   \n",
       "4354         0.047              0.65          0.78             31.9   \n",
       "\n",
       "      Bench FB AvgVR  \n",
       "0               31.9  \n",
       "1               31.9  \n",
       "2               31.9  \n",
       "3               31.9  \n",
       "4               31.9  \n",
       "...              ...  \n",
       "4350            29.6  \n",
       "4351            29.6  \n",
       "4352            29.6  \n",
       "4353            29.6  \n",
       "4354            29.6  \n",
       "\n",
       "[4255 rows x 37 columns]"
      ]
     },
     "execution_count": 6,
     "metadata": {},
     "output_type": "execute_result"
    }
   ],
   "source": [
    "X"
   ]
  },
  {
   "cell_type": "code",
   "execution_count": 7,
   "id": "cf5b2b76-a979-447a-80c1-3831ea488e38",
   "metadata": {},
   "outputs": [],
   "source": [
    "categorical_features = ['Client','Objective', 'Country', 'Media_type', 'Traffic_source','Format_New','Platform','Strategy','Plataforma','Campaign_Type','Ecommerce','Service_Product']  #,'Tipo Search','Tipo FB','Tipo YT'], 'Client'\n",
    "\n",
    "# Preprocesamiento de variables categóricas\n",
    "X_dum = pd.get_dummies(X, columns=categorical_features)\n",
    "X_dum = X_dum.reset_index()\n",
    "\n",
    "#Elijo el valor a predecir. CPC: La hipótesis es que el valor de COST es conocido y controlable: El output en rigor será Clicks y expresaremos el resultado en CPC Cost/Clicks\n",
    "y = df[Variable_Target]"
   ]
  },
  {
   "cell_type": "code",
   "execution_count": 8,
   "id": "55fad986-1f8a-4afc-82bb-3e6ffa81677e",
   "metadata": {},
   "outputs": [],
   "source": [
    "import matplotlib.pyplot as plt\n",
    "from sklearn.preprocessing import StandardScaler\n",
    "\n",
    "scaler = StandardScaler()\n",
    "X_Scaled = scaler.fit_transform(X_dum[['Año','Mes','Cost','Bench Gral CPC','Bench Search CPC','Bench GralSch CPL', 'Bench Search CPL','Bench GralSch CTR', 'Bench Search CTR', 'Bench GralSch CR','Bench Search AvgCR', 'Bench GralFB CPC', 'Bench FB CPC',\n",
    "                            'Bench GralFB CPAction', 'Bench FB CPAction', 'Bench GralFB CTR', 'Bench FB CTR', 'Bench GralFB CR', 'Bench FB AvgCR', 'Bench GralYT CPV', 'Bench YT CPV', 'Bench GralYT CTR', 'Bench YT CTR','Bench GralYT VR', 'Bench FB AvgVR']])\n",
    "\n",
    "pca = PCA(n_components=2)  # Aquí estamos conservando solo una componente principal\n",
    "X_pca = pca.fit_transform(X_Scaled)\n",
    "X_pca = pd.DataFrame(X_pca)\n",
    "\n",
    "X_dum['X_pca_0'] = X_pca[0]\n",
    "X_dum['X_pca_1'] = X_pca[1]\n",
    "X['X_pca_0'] = X_pca[0]\n",
    "X['X_pca_1'] = X_pca[1]"
   ]
  },
  {
   "cell_type": "code",
   "execution_count": 9,
   "id": "8bc96025-97e1-496c-94c9-531dc64a2523",
   "metadata": {},
   "outputs": [
    {
     "data": {
      "text/html": [
       "<div>\n",
       "<style scoped>\n",
       "    .dataframe tbody tr th:only-of-type {\n",
       "        vertical-align: middle;\n",
       "    }\n",
       "\n",
       "    .dataframe tbody tr th {\n",
       "        vertical-align: top;\n",
       "    }\n",
       "\n",
       "    .dataframe thead th {\n",
       "        text-align: right;\n",
       "    }\n",
       "</style>\n",
       "<table border=\"1\" class=\"dataframe\">\n",
       "  <thead>\n",
       "    <tr style=\"text-align: right;\">\n",
       "      <th></th>\n",
       "      <th>0</th>\n",
       "      <th>1</th>\n",
       "    </tr>\n",
       "  </thead>\n",
       "  <tbody>\n",
       "    <tr>\n",
       "      <th>0</th>\n",
       "      <td>-1.194019</td>\n",
       "      <td>-1.534492</td>\n",
       "    </tr>\n",
       "    <tr>\n",
       "      <th>1</th>\n",
       "      <td>-1.197701</td>\n",
       "      <td>-1.546670</td>\n",
       "    </tr>\n",
       "    <tr>\n",
       "      <th>2</th>\n",
       "      <td>-1.196542</td>\n",
       "      <td>-1.542836</td>\n",
       "    </tr>\n",
       "    <tr>\n",
       "      <th>3</th>\n",
       "      <td>-1.197214</td>\n",
       "      <td>-1.545061</td>\n",
       "    </tr>\n",
       "    <tr>\n",
       "      <th>4</th>\n",
       "      <td>-1.209178</td>\n",
       "      <td>-1.584626</td>\n",
       "    </tr>\n",
       "    <tr>\n",
       "      <th>...</th>\n",
       "      <td>...</td>\n",
       "      <td>...</td>\n",
       "    </tr>\n",
       "    <tr>\n",
       "      <th>4250</th>\n",
       "      <td>4.608695</td>\n",
       "      <td>-0.123269</td>\n",
       "    </tr>\n",
       "    <tr>\n",
       "      <th>4251</th>\n",
       "      <td>4.612432</td>\n",
       "      <td>-0.110910</td>\n",
       "    </tr>\n",
       "    <tr>\n",
       "      <th>4252</th>\n",
       "      <td>4.614559</td>\n",
       "      <td>-0.103873</td>\n",
       "    </tr>\n",
       "    <tr>\n",
       "      <th>4253</th>\n",
       "      <td>4.607472</td>\n",
       "      <td>-0.127313</td>\n",
       "    </tr>\n",
       "    <tr>\n",
       "      <th>4254</th>\n",
       "      <td>4.612875</td>\n",
       "      <td>-0.109444</td>\n",
       "    </tr>\n",
       "  </tbody>\n",
       "</table>\n",
       "<p>4255 rows × 2 columns</p>\n",
       "</div>"
      ],
      "text/plain": [
       "             0         1\n",
       "0    -1.194019 -1.534492\n",
       "1    -1.197701 -1.546670\n",
       "2    -1.196542 -1.542836\n",
       "3    -1.197214 -1.545061\n",
       "4    -1.209178 -1.584626\n",
       "...        ...       ...\n",
       "4250  4.608695 -0.123269\n",
       "4251  4.612432 -0.110910\n",
       "4252  4.614559 -0.103873\n",
       "4253  4.607472 -0.127313\n",
       "4254  4.612875 -0.109444\n",
       "\n",
       "[4255 rows x 2 columns]"
      ]
     },
     "execution_count": 9,
     "metadata": {},
     "output_type": "execute_result"
    }
   ],
   "source": [
    "X_pca"
   ]
  },
  {
   "cell_type": "code",
   "execution_count": null,
   "id": "a9fb6d86-98a4-4f6d-8263-ed6dec519756",
   "metadata": {},
   "outputs": [],
   "source": []
  },
  {
   "cell_type": "code",
   "execution_count": 10,
   "id": "94171f94-1f67-4168-a7c6-474390be7688",
   "metadata": {},
   "outputs": [],
   "source": [
    "# Separo en conjuntos de Train y de Test\n",
    "#X_train, X_test, y_train, y_test = train_test_split(X_dum, y, test_size=0.2, random_state=0)\n",
    "X_train = X_dum\n",
    "y_train = y"
   ]
  },
  {
   "cell_type": "markdown",
   "id": "8cf812d4-dc43-461d-8f9b-a19ba90ec99b",
   "metadata": {},
   "source": [
    "## RandomForest\n",
    "\n",
    "RMSE = 0.26"
   ]
  },
  {
   "cell_type": "code",
   "execution_count": 11,
   "id": "bd89a436-c90a-4cee-accb-61a3dd0fe991",
   "metadata": {},
   "outputs": [],
   "source": [
    "from sklearn.ensemble import RandomForestRegressor\n",
    "from sklearn.model_selection import cross_val_score\n",
    "from sklearn.metrics import mean_squared_error, make_scorer\n",
    "from sklearn.model_selection import train_test_split, GridSearchCV"
   ]
  },
  {
   "cell_type": "code",
   "execution_count": 12,
   "id": "9c82d1a8-db76-4e27-a171-39511aee2501",
   "metadata": {},
   "outputs": [],
   "source": [
    "rf = RandomForestRegressor(n_estimators=30, max_depth=14, min_samples_split=4, min_samples_leaf=2)"
   ]
  },
  {
   "cell_type": "code",
   "execution_count": 13,
   "id": "9b02dbd5-025c-4f8b-a4c8-07e3c576ed89",
   "metadata": {},
   "outputs": [
    {
     "data": {
      "text/html": [
       "<style>#sk-container-id-1 {color: black;}#sk-container-id-1 pre{padding: 0;}#sk-container-id-1 div.sk-toggleable {background-color: white;}#sk-container-id-1 label.sk-toggleable__label {cursor: pointer;display: block;width: 100%;margin-bottom: 0;padding: 0.3em;box-sizing: border-box;text-align: center;}#sk-container-id-1 label.sk-toggleable__label-arrow:before {content: \"▸\";float: left;margin-right: 0.25em;color: #696969;}#sk-container-id-1 label.sk-toggleable__label-arrow:hover:before {color: black;}#sk-container-id-1 div.sk-estimator:hover label.sk-toggleable__label-arrow:before {color: black;}#sk-container-id-1 div.sk-toggleable__content {max-height: 0;max-width: 0;overflow: hidden;text-align: left;background-color: #f0f8ff;}#sk-container-id-1 div.sk-toggleable__content pre {margin: 0.2em;color: black;border-radius: 0.25em;background-color: #f0f8ff;}#sk-container-id-1 input.sk-toggleable__control:checked~div.sk-toggleable__content {max-height: 200px;max-width: 100%;overflow: auto;}#sk-container-id-1 input.sk-toggleable__control:checked~label.sk-toggleable__label-arrow:before {content: \"▾\";}#sk-container-id-1 div.sk-estimator input.sk-toggleable__control:checked~label.sk-toggleable__label {background-color: #d4ebff;}#sk-container-id-1 div.sk-label input.sk-toggleable__control:checked~label.sk-toggleable__label {background-color: #d4ebff;}#sk-container-id-1 input.sk-hidden--visually {border: 0;clip: rect(1px 1px 1px 1px);clip: rect(1px, 1px, 1px, 1px);height: 1px;margin: -1px;overflow: hidden;padding: 0;position: absolute;width: 1px;}#sk-container-id-1 div.sk-estimator {font-family: monospace;background-color: #f0f8ff;border: 1px dotted black;border-radius: 0.25em;box-sizing: border-box;margin-bottom: 0.5em;}#sk-container-id-1 div.sk-estimator:hover {background-color: #d4ebff;}#sk-container-id-1 div.sk-parallel-item::after {content: \"\";width: 100%;border-bottom: 1px solid gray;flex-grow: 1;}#sk-container-id-1 div.sk-label:hover label.sk-toggleable__label {background-color: #d4ebff;}#sk-container-id-1 div.sk-serial::before {content: \"\";position: absolute;border-left: 1px solid gray;box-sizing: border-box;top: 0;bottom: 0;left: 50%;z-index: 0;}#sk-container-id-1 div.sk-serial {display: flex;flex-direction: column;align-items: center;background-color: white;padding-right: 0.2em;padding-left: 0.2em;position: relative;}#sk-container-id-1 div.sk-item {position: relative;z-index: 1;}#sk-container-id-1 div.sk-parallel {display: flex;align-items: stretch;justify-content: center;background-color: white;position: relative;}#sk-container-id-1 div.sk-item::before, #sk-container-id-1 div.sk-parallel-item::before {content: \"\";position: absolute;border-left: 1px solid gray;box-sizing: border-box;top: 0;bottom: 0;left: 50%;z-index: -1;}#sk-container-id-1 div.sk-parallel-item {display: flex;flex-direction: column;z-index: 1;position: relative;background-color: white;}#sk-container-id-1 div.sk-parallel-item:first-child::after {align-self: flex-end;width: 50%;}#sk-container-id-1 div.sk-parallel-item:last-child::after {align-self: flex-start;width: 50%;}#sk-container-id-1 div.sk-parallel-item:only-child::after {width: 0;}#sk-container-id-1 div.sk-dashed-wrapped {border: 1px dashed gray;margin: 0 0.4em 0.5em 0.4em;box-sizing: border-box;padding-bottom: 0.4em;background-color: white;}#sk-container-id-1 div.sk-label label {font-family: monospace;font-weight: bold;display: inline-block;line-height: 1.2em;}#sk-container-id-1 div.sk-label-container {text-align: center;}#sk-container-id-1 div.sk-container {/* jupyter's `normalize.less` sets `[hidden] { display: none; }` but bootstrap.min.css set `[hidden] { display: none !important; }` so we also need the `!important` here to be able to override the default hidden behavior on the sphinx rendered scikit-learn.org. See: https://github.com/scikit-learn/scikit-learn/issues/21755 */display: inline-block !important;position: relative;}#sk-container-id-1 div.sk-text-repr-fallback {display: none;}</style><div id=\"sk-container-id-1\" class=\"sk-top-container\"><div class=\"sk-text-repr-fallback\"><pre>RandomForestRegressor(max_depth=14, min_samples_leaf=2, min_samples_split=4,\n",
       "                      n_estimators=30)</pre><b>In a Jupyter environment, please rerun this cell to show the HTML representation or trust the notebook. <br />On GitHub, the HTML representation is unable to render, please try loading this page with nbviewer.org.</b></div><div class=\"sk-container\" hidden><div class=\"sk-item\"><div class=\"sk-estimator sk-toggleable\"><input class=\"sk-toggleable__control sk-hidden--visually\" id=\"sk-estimator-id-1\" type=\"checkbox\" checked><label for=\"sk-estimator-id-1\" class=\"sk-toggleable__label sk-toggleable__label-arrow\">RandomForestRegressor</label><div class=\"sk-toggleable__content\"><pre>RandomForestRegressor(max_depth=14, min_samples_leaf=2, min_samples_split=4,\n",
       "                      n_estimators=30)</pre></div></div></div></div></div>"
      ],
      "text/plain": [
       "RandomForestRegressor(max_depth=14, min_samples_leaf=2, min_samples_split=4,\n",
       "                      n_estimators=30)"
      ]
     },
     "execution_count": 13,
     "metadata": {},
     "output_type": "execute_result"
    }
   ],
   "source": [
    "rf.fit(X_train.drop('index',axis=1), y_train)"
   ]
  },
  {
   "cell_type": "markdown",
   "id": "823d9160-12c9-4846-ae79-e72d045f3792",
   "metadata": {
    "jp-MarkdownHeadingCollapsed": true
   },
   "source": [
    "#### VC"
   ]
  },
  {
   "cell_type": "code",
   "execution_count": 14,
   "id": "582fd4e0-f943-4041-9766-c195b4e3460b",
   "metadata": {},
   "outputs": [],
   "source": [
    "from sklearn.model_selection import KFold"
   ]
  },
  {
   "cell_type": "code",
   "execution_count": 15,
   "id": "e2a581bb-c569-4ebe-9bbb-3f1f1dfccedb",
   "metadata": {},
   "outputs": [],
   "source": [
    "kf_rf = KFold(n_splits=5, shuffle=True, random_state=42)\n",
    "X_train_rf_prueba = X_train.copy()\n",
    "X_train_rf_prueba = X_train_rf_prueba.reset_index()\n",
    "y_train_rf_prueba = y_train.copy()\n",
    "y_train_rf_prueba = y_train_rf_prueba.reset_index()\n",
    "\n",
    "\n",
    "X_train_rf_prueba = X_train_rf_prueba.drop('index', axis=1)\n",
    "y_train_rf_prueba = y_train_rf_prueba.drop('index', axis=1)"
   ]
  },
  {
   "cell_type": "code",
   "execution_count": null,
   "id": "913aba9b-7652-4fa4-9b7c-8250c26898f6",
   "metadata": {},
   "outputs": [],
   "source": []
  },
  {
   "cell_type": "code",
   "execution_count": 16,
   "id": "3f45f2e3-d7ed-4c6d-9b9a-dd5368af8bd8",
   "metadata": {},
   "outputs": [
    {
     "data": {
      "text/html": [
       "<div>\n",
       "<style scoped>\n",
       "    .dataframe tbody tr th:only-of-type {\n",
       "        vertical-align: middle;\n",
       "    }\n",
       "\n",
       "    .dataframe tbody tr th {\n",
       "        vertical-align: top;\n",
       "    }\n",
       "\n",
       "    .dataframe thead th {\n",
       "        text-align: right;\n",
       "    }\n",
       "</style>\n",
       "<table border=\"1\" class=\"dataframe\">\n",
       "  <thead>\n",
       "    <tr style=\"text-align: right;\">\n",
       "      <th></th>\n",
       "      <th>CTR</th>\n",
       "    </tr>\n",
       "  </thead>\n",
       "  <tbody>\n",
       "    <tr>\n",
       "      <th>0</th>\n",
       "      <td>0.025136</td>\n",
       "    </tr>\n",
       "    <tr>\n",
       "      <th>1</th>\n",
       "      <td>0.010664</td>\n",
       "    </tr>\n",
       "    <tr>\n",
       "      <th>2</th>\n",
       "      <td>0.009734</td>\n",
       "    </tr>\n",
       "    <tr>\n",
       "      <th>3</th>\n",
       "      <td>0.034211</td>\n",
       "    </tr>\n",
       "    <tr>\n",
       "      <th>4</th>\n",
       "      <td>0.032888</td>\n",
       "    </tr>\n",
       "    <tr>\n",
       "      <th>...</th>\n",
       "      <td>...</td>\n",
       "    </tr>\n",
       "    <tr>\n",
       "      <th>4250</th>\n",
       "      <td>0.052613</td>\n",
       "    </tr>\n",
       "    <tr>\n",
       "      <th>4251</th>\n",
       "      <td>0.055702</td>\n",
       "    </tr>\n",
       "    <tr>\n",
       "      <th>4252</th>\n",
       "      <td>0.049419</td>\n",
       "    </tr>\n",
       "    <tr>\n",
       "      <th>4253</th>\n",
       "      <td>0.076677</td>\n",
       "    </tr>\n",
       "    <tr>\n",
       "      <th>4254</th>\n",
       "      <td>0.072854</td>\n",
       "    </tr>\n",
       "  </tbody>\n",
       "</table>\n",
       "<p>4255 rows × 1 columns</p>\n",
       "</div>"
      ],
      "text/plain": [
       "           CTR\n",
       "0     0.025136\n",
       "1     0.010664\n",
       "2     0.009734\n",
       "3     0.034211\n",
       "4     0.032888\n",
       "...        ...\n",
       "4250  0.052613\n",
       "4251  0.055702\n",
       "4252  0.049419\n",
       "4253  0.076677\n",
       "4254  0.072854\n",
       "\n",
       "[4255 rows x 1 columns]"
      ]
     },
     "execution_count": 16,
     "metadata": {},
     "output_type": "execute_result"
    }
   ],
   "source": [
    "y_train_rf_prueba"
   ]
  },
  {
   "cell_type": "code",
   "execution_count": 17,
   "id": "cf4791d9-430a-425a-92ea-0b98d9cf1e64",
   "metadata": {
    "scrolled": true
   },
   "outputs": [
    {
     "name": "stdout",
     "output_type": "stream",
     "text": [
      "15\n"
     ]
    },
    {
     "name": "stderr",
     "output_type": "stream",
     "text": [
      "C:\\Users\\fedem\\Mis_Documentos\\iMetriq\\env\\Lib\\site-packages\\sklearn\\base.py:1152: DataConversionWarning: A column-vector y was passed when a 1d array was expected. Please change the shape of y to (n_samples,), for example using ravel().\n",
      "  return fit_method(estimator, *args, **kwargs)\n",
      "C:\\Users\\fedem\\Mis_Documentos\\iMetriq\\env\\Lib\\site-packages\\sklearn\\base.py:1152: DataConversionWarning: A column-vector y was passed when a 1d array was expected. Please change the shape of y to (n_samples,), for example using ravel().\n",
      "  return fit_method(estimator, *args, **kwargs)\n",
      "C:\\Users\\fedem\\Mis_Documentos\\iMetriq\\env\\Lib\\site-packages\\sklearn\\base.py:1152: DataConversionWarning: A column-vector y was passed when a 1d array was expected. Please change the shape of y to (n_samples,), for example using ravel().\n",
      "  return fit_method(estimator, *args, **kwargs)\n",
      "C:\\Users\\fedem\\Mis_Documentos\\iMetriq\\env\\Lib\\site-packages\\sklearn\\base.py:1152: DataConversionWarning: A column-vector y was passed when a 1d array was expected. Please change the shape of y to (n_samples,), for example using ravel().\n",
      "  return fit_method(estimator, *args, **kwargs)\n",
      "C:\\Users\\fedem\\Mis_Documentos\\iMetriq\\env\\Lib\\site-packages\\sklearn\\base.py:1152: DataConversionWarning: A column-vector y was passed when a 1d array was expected. Please change the shape of y to (n_samples,), for example using ravel().\n",
      "  return fit_method(estimator, *args, **kwargs)\n"
     ]
    },
    {
     "name": "stdout",
     "output_type": "stream",
     "text": [
      "20\n"
     ]
    },
    {
     "name": "stderr",
     "output_type": "stream",
     "text": [
      "C:\\Users\\fedem\\Mis_Documentos\\iMetriq\\env\\Lib\\site-packages\\sklearn\\base.py:1152: DataConversionWarning: A column-vector y was passed when a 1d array was expected. Please change the shape of y to (n_samples,), for example using ravel().\n",
      "  return fit_method(estimator, *args, **kwargs)\n",
      "C:\\Users\\fedem\\Mis_Documentos\\iMetriq\\env\\Lib\\site-packages\\sklearn\\base.py:1152: DataConversionWarning: A column-vector y was passed when a 1d array was expected. Please change the shape of y to (n_samples,), for example using ravel().\n",
      "  return fit_method(estimator, *args, **kwargs)\n",
      "C:\\Users\\fedem\\Mis_Documentos\\iMetriq\\env\\Lib\\site-packages\\sklearn\\base.py:1152: DataConversionWarning: A column-vector y was passed when a 1d array was expected. Please change the shape of y to (n_samples,), for example using ravel().\n",
      "  return fit_method(estimator, *args, **kwargs)\n",
      "C:\\Users\\fedem\\Mis_Documentos\\iMetriq\\env\\Lib\\site-packages\\sklearn\\base.py:1152: DataConversionWarning: A column-vector y was passed when a 1d array was expected. Please change the shape of y to (n_samples,), for example using ravel().\n",
      "  return fit_method(estimator, *args, **kwargs)\n",
      "C:\\Users\\fedem\\Mis_Documentos\\iMetriq\\env\\Lib\\site-packages\\sklearn\\base.py:1152: DataConversionWarning: A column-vector y was passed when a 1d array was expected. Please change the shape of y to (n_samples,), for example using ravel().\n",
      "  return fit_method(estimator, *args, **kwargs)\n"
     ]
    },
    {
     "name": "stdout",
     "output_type": "stream",
     "text": [
      "30\n"
     ]
    },
    {
     "name": "stderr",
     "output_type": "stream",
     "text": [
      "C:\\Users\\fedem\\Mis_Documentos\\iMetriq\\env\\Lib\\site-packages\\sklearn\\base.py:1152: DataConversionWarning: A column-vector y was passed when a 1d array was expected. Please change the shape of y to (n_samples,), for example using ravel().\n",
      "  return fit_method(estimator, *args, **kwargs)\n",
      "C:\\Users\\fedem\\Mis_Documentos\\iMetriq\\env\\Lib\\site-packages\\sklearn\\base.py:1152: DataConversionWarning: A column-vector y was passed when a 1d array was expected. Please change the shape of y to (n_samples,), for example using ravel().\n",
      "  return fit_method(estimator, *args, **kwargs)\n",
      "C:\\Users\\fedem\\Mis_Documentos\\iMetriq\\env\\Lib\\site-packages\\sklearn\\base.py:1152: DataConversionWarning: A column-vector y was passed when a 1d array was expected. Please change the shape of y to (n_samples,), for example using ravel().\n",
      "  return fit_method(estimator, *args, **kwargs)\n",
      "C:\\Users\\fedem\\Mis_Documentos\\iMetriq\\env\\Lib\\site-packages\\sklearn\\base.py:1152: DataConversionWarning: A column-vector y was passed when a 1d array was expected. Please change the shape of y to (n_samples,), for example using ravel().\n",
      "  return fit_method(estimator, *args, **kwargs)\n",
      "C:\\Users\\fedem\\Mis_Documentos\\iMetriq\\env\\Lib\\site-packages\\sklearn\\base.py:1152: DataConversionWarning: A column-vector y was passed when a 1d array was expected. Please change the shape of y to (n_samples,), for example using ravel().\n",
      "  return fit_method(estimator, *args, **kwargs)\n"
     ]
    },
    {
     "name": "stdout",
     "output_type": "stream",
     "text": [
      "40\n"
     ]
    },
    {
     "name": "stderr",
     "output_type": "stream",
     "text": [
      "C:\\Users\\fedem\\Mis_Documentos\\iMetriq\\env\\Lib\\site-packages\\sklearn\\base.py:1152: DataConversionWarning: A column-vector y was passed when a 1d array was expected. Please change the shape of y to (n_samples,), for example using ravel().\n",
      "  return fit_method(estimator, *args, **kwargs)\n",
      "C:\\Users\\fedem\\Mis_Documentos\\iMetriq\\env\\Lib\\site-packages\\sklearn\\base.py:1152: DataConversionWarning: A column-vector y was passed when a 1d array was expected. Please change the shape of y to (n_samples,), for example using ravel().\n",
      "  return fit_method(estimator, *args, **kwargs)\n",
      "C:\\Users\\fedem\\Mis_Documentos\\iMetriq\\env\\Lib\\site-packages\\sklearn\\base.py:1152: DataConversionWarning: A column-vector y was passed when a 1d array was expected. Please change the shape of y to (n_samples,), for example using ravel().\n",
      "  return fit_method(estimator, *args, **kwargs)\n",
      "C:\\Users\\fedem\\Mis_Documentos\\iMetriq\\env\\Lib\\site-packages\\sklearn\\base.py:1152: DataConversionWarning: A column-vector y was passed when a 1d array was expected. Please change the shape of y to (n_samples,), for example using ravel().\n",
      "  return fit_method(estimator, *args, **kwargs)\n",
      "C:\\Users\\fedem\\Mis_Documentos\\iMetriq\\env\\Lib\\site-packages\\sklearn\\base.py:1152: DataConversionWarning: A column-vector y was passed when a 1d array was expected. Please change the shape of y to (n_samples,), for example using ravel().\n",
      "  return fit_method(estimator, *args, **kwargs)\n"
     ]
    },
    {
     "name": "stdout",
     "output_type": "stream",
     "text": [
      "50\n"
     ]
    },
    {
     "name": "stderr",
     "output_type": "stream",
     "text": [
      "C:\\Users\\fedem\\Mis_Documentos\\iMetriq\\env\\Lib\\site-packages\\sklearn\\base.py:1152: DataConversionWarning: A column-vector y was passed when a 1d array was expected. Please change the shape of y to (n_samples,), for example using ravel().\n",
      "  return fit_method(estimator, *args, **kwargs)\n",
      "C:\\Users\\fedem\\Mis_Documentos\\iMetriq\\env\\Lib\\site-packages\\sklearn\\base.py:1152: DataConversionWarning: A column-vector y was passed when a 1d array was expected. Please change the shape of y to (n_samples,), for example using ravel().\n",
      "  return fit_method(estimator, *args, **kwargs)\n",
      "C:\\Users\\fedem\\Mis_Documentos\\iMetriq\\env\\Lib\\site-packages\\sklearn\\base.py:1152: DataConversionWarning: A column-vector y was passed when a 1d array was expected. Please change the shape of y to (n_samples,), for example using ravel().\n",
      "  return fit_method(estimator, *args, **kwargs)\n",
      "C:\\Users\\fedem\\Mis_Documentos\\iMetriq\\env\\Lib\\site-packages\\sklearn\\base.py:1152: DataConversionWarning: A column-vector y was passed when a 1d array was expected. Please change the shape of y to (n_samples,), for example using ravel().\n",
      "  return fit_method(estimator, *args, **kwargs)\n",
      "C:\\Users\\fedem\\Mis_Documentos\\iMetriq\\env\\Lib\\site-packages\\sklearn\\base.py:1152: DataConversionWarning: A column-vector y was passed when a 1d array was expected. Please change the shape of y to (n_samples,), for example using ravel().\n",
      "  return fit_method(estimator, *args, **kwargs)\n"
     ]
    },
    {
     "name": "stdout",
     "output_type": "stream",
     "text": [
      "70\n"
     ]
    },
    {
     "name": "stderr",
     "output_type": "stream",
     "text": [
      "C:\\Users\\fedem\\Mis_Documentos\\iMetriq\\env\\Lib\\site-packages\\sklearn\\base.py:1152: DataConversionWarning: A column-vector y was passed when a 1d array was expected. Please change the shape of y to (n_samples,), for example using ravel().\n",
      "  return fit_method(estimator, *args, **kwargs)\n",
      "C:\\Users\\fedem\\Mis_Documentos\\iMetriq\\env\\Lib\\site-packages\\sklearn\\base.py:1152: DataConversionWarning: A column-vector y was passed when a 1d array was expected. Please change the shape of y to (n_samples,), for example using ravel().\n",
      "  return fit_method(estimator, *args, **kwargs)\n",
      "C:\\Users\\fedem\\Mis_Documentos\\iMetriq\\env\\Lib\\site-packages\\sklearn\\base.py:1152: DataConversionWarning: A column-vector y was passed when a 1d array was expected. Please change the shape of y to (n_samples,), for example using ravel().\n",
      "  return fit_method(estimator, *args, **kwargs)\n",
      "C:\\Users\\fedem\\Mis_Documentos\\iMetriq\\env\\Lib\\site-packages\\sklearn\\base.py:1152: DataConversionWarning: A column-vector y was passed when a 1d array was expected. Please change the shape of y to (n_samples,), for example using ravel().\n",
      "  return fit_method(estimator, *args, **kwargs)\n",
      "C:\\Users\\fedem\\Mis_Documentos\\iMetriq\\env\\Lib\\site-packages\\sklearn\\base.py:1152: DataConversionWarning: A column-vector y was passed when a 1d array was expected. Please change the shape of y to (n_samples,), for example using ravel().\n",
      "  return fit_method(estimator, *args, **kwargs)\n"
     ]
    },
    {
     "name": "stdout",
     "output_type": "stream",
     "text": [
      "80\n"
     ]
    },
    {
     "name": "stderr",
     "output_type": "stream",
     "text": [
      "C:\\Users\\fedem\\Mis_Documentos\\iMetriq\\env\\Lib\\site-packages\\sklearn\\base.py:1152: DataConversionWarning: A column-vector y was passed when a 1d array was expected. Please change the shape of y to (n_samples,), for example using ravel().\n",
      "  return fit_method(estimator, *args, **kwargs)\n",
      "C:\\Users\\fedem\\Mis_Documentos\\iMetriq\\env\\Lib\\site-packages\\sklearn\\base.py:1152: DataConversionWarning: A column-vector y was passed when a 1d array was expected. Please change the shape of y to (n_samples,), for example using ravel().\n",
      "  return fit_method(estimator, *args, **kwargs)\n",
      "C:\\Users\\fedem\\Mis_Documentos\\iMetriq\\env\\Lib\\site-packages\\sklearn\\base.py:1152: DataConversionWarning: A column-vector y was passed when a 1d array was expected. Please change the shape of y to (n_samples,), for example using ravel().\n",
      "  return fit_method(estimator, *args, **kwargs)\n",
      "C:\\Users\\fedem\\Mis_Documentos\\iMetriq\\env\\Lib\\site-packages\\sklearn\\base.py:1152: DataConversionWarning: A column-vector y was passed when a 1d array was expected. Please change the shape of y to (n_samples,), for example using ravel().\n",
      "  return fit_method(estimator, *args, **kwargs)\n",
      "C:\\Users\\fedem\\Mis_Documentos\\iMetriq\\env\\Lib\\site-packages\\sklearn\\base.py:1152: DataConversionWarning: A column-vector y was passed when a 1d array was expected. Please change the shape of y to (n_samples,), for example using ravel().\n",
      "  return fit_method(estimator, *args, **kwargs)\n"
     ]
    },
    {
     "name": "stdout",
     "output_type": "stream",
     "text": [
      "100\n"
     ]
    },
    {
     "name": "stderr",
     "output_type": "stream",
     "text": [
      "C:\\Users\\fedem\\Mis_Documentos\\iMetriq\\env\\Lib\\site-packages\\sklearn\\base.py:1152: DataConversionWarning: A column-vector y was passed when a 1d array was expected. Please change the shape of y to (n_samples,), for example using ravel().\n",
      "  return fit_method(estimator, *args, **kwargs)\n",
      "C:\\Users\\fedem\\Mis_Documentos\\iMetriq\\env\\Lib\\site-packages\\sklearn\\base.py:1152: DataConversionWarning: A column-vector y was passed when a 1d array was expected. Please change the shape of y to (n_samples,), for example using ravel().\n",
      "  return fit_method(estimator, *args, **kwargs)\n",
      "C:\\Users\\fedem\\Mis_Documentos\\iMetriq\\env\\Lib\\site-packages\\sklearn\\base.py:1152: DataConversionWarning: A column-vector y was passed when a 1d array was expected. Please change the shape of y to (n_samples,), for example using ravel().\n",
      "  return fit_method(estimator, *args, **kwargs)\n",
      "C:\\Users\\fedem\\Mis_Documentos\\iMetriq\\env\\Lib\\site-packages\\sklearn\\base.py:1152: DataConversionWarning: A column-vector y was passed when a 1d array was expected. Please change the shape of y to (n_samples,), for example using ravel().\n",
      "  return fit_method(estimator, *args, **kwargs)\n",
      "C:\\Users\\fedem\\Mis_Documentos\\iMetriq\\env\\Lib\\site-packages\\sklearn\\base.py:1152: DataConversionWarning: A column-vector y was passed when a 1d array was expected. Please change the shape of y to (n_samples,), for example using ravel().\n",
      "  return fit_method(estimator, *args, **kwargs)\n"
     ]
    },
    {
     "name": "stdout",
     "output_type": "stream",
     "text": [
      "0.0025697656412612797\n",
      "0.0006852726125710461\n"
     ]
    }
   ],
   "source": [
    "mse_test_list_total = dict()\n",
    "mse_train_list_total = dict()\n",
    "for i in [15,20,30,40,50,70,80,100]:\n",
    "    print(i)\n",
    "    mse_test_list = []\n",
    "    mse_train_list = []\n",
    "    for train_index, test_index in kf_rf.split(X_train_rf_prueba):\n",
    "        X_train_cv, X_test_cv = X_train_rf_prueba.iloc[train_index], X_train_rf_prueba.iloc[test_index]\n",
    "        y_train_cv, y_test_cv = y_train_rf_prueba.iloc[train_index], y_train_rf_prueba.iloc[test_index]\n",
    "        \n",
    "        # Inicializar el modelo de clasificación\n",
    "        rf_cv = RandomForestRegressor(n_estimators=i, max_depth=14, min_samples_split=4, min_samples_leaf=2)\n",
    "    \n",
    "        # Ajustar el modelo con los datos de entrenamiento\n",
    "        rf_cv.fit(X_train_cv, y_train_cv)\n",
    "    \n",
    "        # Hacer predicciones en los datos de prueba\n",
    "        y_pred_test_cv = rf_cv.predict(X_test_cv)\n",
    "        y_pred_train_cv = rf_cv.predict(X_train_cv)\n",
    "    \n",
    "        # Calcular la precisión y agregarla a la lista de puntuaciones\n",
    "        mse_test = mean_squared_error(y_test_cv, y_pred_test_cv)\n",
    "        mse_train = mean_squared_error(y_train_cv, y_pred_train_cv)\n",
    "        #print(y_test_cv)\n",
    "        #print(y_pred_cv)\n",
    "        mse_test_list.append(mse_test)\n",
    "        mse_train_list.append(mse_train)\n",
    "        \n",
    "    mse_cv_test = np.mean(mse_test_list)\n",
    "    mse_test_list_total[i] = mse_cv_test\n",
    "    mse_cv_train = np.mean(mse_train_list)\n",
    "    mse_train_list_total[i] = mse_cv_train\n",
    "print(mse_cv_test)\n",
    "print(mse_cv_train)\n",
    "\n",
    "df_curve = pd.DataFrame(list(mse_test_list_total.items()), columns=['Index', 'ErrorTest'])\n",
    "df_curve_2 = pd.DataFrame(list(mse_train_list_total.items()), columns=['Index', 'ErrorTrain'])\n",
    "df_curve = pd.merge(df_curve,df_curve_2,on='Index',how='left')\n",
    "#df_curve = pd.DataFrame(mse_test_list_total)"
   ]
  },
  {
   "cell_type": "code",
   "execution_count": 18,
   "id": "24e9d3b4-78c6-4ce5-96f9-58c794bbfb75",
   "metadata": {},
   "outputs": [
    {
     "data": {
      "text/html": [
       "\n",
       "<style>\n",
       "  #altair-viz-df14c15ac9e64c2ea4321947b05ae5f8.vega-embed {\n",
       "    width: 100%;\n",
       "    display: flex;\n",
       "  }\n",
       "\n",
       "  #altair-viz-df14c15ac9e64c2ea4321947b05ae5f8.vega-embed details,\n",
       "  #altair-viz-df14c15ac9e64c2ea4321947b05ae5f8.vega-embed details summary {\n",
       "    position: relative;\n",
       "  }\n",
       "</style>\n",
       "<div id=\"altair-viz-df14c15ac9e64c2ea4321947b05ae5f8\"></div>\n",
       "<script type=\"text/javascript\">\n",
       "  var VEGA_DEBUG = (typeof VEGA_DEBUG == \"undefined\") ? {} : VEGA_DEBUG;\n",
       "  (function(spec, embedOpt){\n",
       "    let outputDiv = document.currentScript.previousElementSibling;\n",
       "    if (outputDiv.id !== \"altair-viz-df14c15ac9e64c2ea4321947b05ae5f8\") {\n",
       "      outputDiv = document.getElementById(\"altair-viz-df14c15ac9e64c2ea4321947b05ae5f8\");\n",
       "    }\n",
       "    const paths = {\n",
       "      \"vega\": \"https://cdn.jsdelivr.net/npm/vega@5?noext\",\n",
       "      \"vega-lib\": \"https://cdn.jsdelivr.net/npm/vega-lib?noext\",\n",
       "      \"vega-lite\": \"https://cdn.jsdelivr.net/npm/vega-lite@5.14.1?noext\",\n",
       "      \"vega-embed\": \"https://cdn.jsdelivr.net/npm/vega-embed@6?noext\",\n",
       "    };\n",
       "\n",
       "    function maybeLoadScript(lib, version) {\n",
       "      var key = `${lib.replace(\"-\", \"\")}_version`;\n",
       "      return (VEGA_DEBUG[key] == version) ?\n",
       "        Promise.resolve(paths[lib]) :\n",
       "        new Promise(function(resolve, reject) {\n",
       "          var s = document.createElement('script');\n",
       "          document.getElementsByTagName(\"head\")[0].appendChild(s);\n",
       "          s.async = true;\n",
       "          s.onload = () => {\n",
       "            VEGA_DEBUG[key] = version;\n",
       "            return resolve(paths[lib]);\n",
       "          };\n",
       "          s.onerror = () => reject(`Error loading script: ${paths[lib]}`);\n",
       "          s.src = paths[lib];\n",
       "        });\n",
       "    }\n",
       "\n",
       "    function showError(err) {\n",
       "      outputDiv.innerHTML = `<div class=\"error\" style=\"color:red;\">${err}</div>`;\n",
       "      throw err;\n",
       "    }\n",
       "\n",
       "    function displayChart(vegaEmbed) {\n",
       "      vegaEmbed(outputDiv, spec, embedOpt)\n",
       "        .catch(err => showError(`Javascript Error: ${err.message}<br>This usually means there's a typo in your chart specification. See the javascript console for the full traceback.`));\n",
       "    }\n",
       "\n",
       "    if(typeof define === \"function\" && define.amd) {\n",
       "      requirejs.config({paths});\n",
       "      require([\"vega-embed\"], displayChart, err => showError(`Error loading script: ${err.message}`));\n",
       "    } else {\n",
       "      maybeLoadScript(\"vega\", \"5\")\n",
       "        .then(() => maybeLoadScript(\"vega-lite\", \"5.14.1\"))\n",
       "        .then(() => maybeLoadScript(\"vega-embed\", \"6\"))\n",
       "        .catch(showError)\n",
       "        .then(() => displayChart(vegaEmbed));\n",
       "    }\n",
       "  })({\"config\": {\"view\": {\"continuousWidth\": 300, \"continuousHeight\": 300}}, \"data\": {\"name\": \"data-c4164cf80243ccb039526b7053569789\"}, \"mark\": {\"type\": \"line\", \"point\": true}, \"encoding\": {\"color\": {\"field\": \"variable\", \"type\": \"nominal\"}, \"x\": {\"field\": \"Index\", \"type\": \"quantitative\"}, \"y\": {\"field\": \"value\", \"type\": \"quantitative\"}}, \"height\": 400, \"title\": \"Gr\\u00e1fico de L\\u00edneas para Columnas A y B\", \"width\": 600, \"$schema\": \"https://vega.github.io/schema/vega-lite/v5.14.1.json\", \"datasets\": {\"data-c4164cf80243ccb039526b7053569789\": [{\"Index\": 15, \"variable\": \"ErrorTest\", \"value\": 0.0026398563023684292}, {\"Index\": 20, \"variable\": \"ErrorTest\", \"value\": 0.002596809284208382}, {\"Index\": 30, \"variable\": \"ErrorTest\", \"value\": 0.0025502423741210222}, {\"Index\": 40, \"variable\": \"ErrorTest\", \"value\": 0.002644398266531205}, {\"Index\": 50, \"variable\": \"ErrorTest\", \"value\": 0.002569984823092478}, {\"Index\": 70, \"variable\": \"ErrorTest\", \"value\": 0.002587739142788899}, {\"Index\": 80, \"variable\": \"ErrorTest\", \"value\": 0.0025488070988889527}, {\"Index\": 100, \"variable\": \"ErrorTest\", \"value\": 0.0025697656412612797}, {\"Index\": 15, \"variable\": \"ErrorTrain\", \"value\": 0.0007525636547025428}, {\"Index\": 20, \"variable\": \"ErrorTrain\", \"value\": 0.0007385852853629965}, {\"Index\": 30, \"variable\": \"ErrorTrain\", \"value\": 0.0007159104647201065}, {\"Index\": 40, \"variable\": \"ErrorTrain\", \"value\": 0.000712006323173772}, {\"Index\": 50, \"variable\": \"ErrorTrain\", \"value\": 0.0007014568657376923}, {\"Index\": 70, \"variable\": \"ErrorTrain\", \"value\": 0.0006915828883263012}, {\"Index\": 80, \"variable\": \"ErrorTrain\", \"value\": 0.0006916334850173258}, {\"Index\": 100, \"variable\": \"ErrorTrain\", \"value\": 0.0006852726125710461}]}}, {\"mode\": \"vega-lite\"});\n",
       "</script>"
      ],
      "text/plain": [
       "alt.Chart(...)"
      ]
     },
     "execution_count": 18,
     "metadata": {},
     "output_type": "execute_result"
    }
   ],
   "source": [
    "# Supongamos que tienes un DataFrame llamado 'df' con columnas \"indice\", \"columna_A\" y \"columna_B\"\n",
    "\n",
    "# Convertir el DataFrame de pandas a un formato aceptado por Altair\n",
    "df_altair = pd.melt(df_curve, id_vars=['Index'], value_vars=['ErrorTest', 'ErrorTrain'])\n",
    "\n",
    "# Crear el gráfico de líneas divididas por color en Altair\n",
    "line_chart = alt.Chart(df_altair).mark_line(point=True).encode(\n",
    "    x='Index:Q',\n",
    "    y='value:Q',\n",
    "    color='variable:N'\n",
    ").properties(\n",
    "    width=600,\n",
    "    height=400,\n",
    "    title='Gráfico de Líneas para Columnas A y B'\n",
    ")\n",
    "\n",
    "# Mostrar el gráfico\n",
    "line_chart"
   ]
  },
  {
   "cell_type": "markdown",
   "id": "682416b1-a05b-4084-88ba-f9cbc2f463ac",
   "metadata": {},
   "source": [
    "## XGBoost\n",
    "\n",
    "RMSE_test = 0.24"
   ]
  },
  {
   "cell_type": "markdown",
   "id": "2160a07d-5017-470a-a1a0-4261c209303f",
   "metadata": {},
   "source": [
    "### Modelo"
   ]
  },
  {
   "cell_type": "code",
   "execution_count": 14,
   "id": "1dcbec20-0504-47f0-8d98-da7d9b9584b5",
   "metadata": {},
   "outputs": [],
   "source": [
    "import xgboost as xgb"
   ]
  },
  {
   "cell_type": "code",
   "execution_count": 15,
   "id": "ebb893c7-7ffb-4b33-ac0b-a57a1dda4d5d",
   "metadata": {},
   "outputs": [],
   "source": [
    "xgboost = xgb.XGBRegressor(learning_rate=0.05, max_depth=10, n_estimators=30)"
   ]
  },
  {
   "cell_type": "code",
   "execution_count": 16,
   "id": "f6984058-03db-406b-8e80-f1ea84d58c07",
   "metadata": {},
   "outputs": [
    {
     "data": {
      "text/html": [
       "<style>#sk-container-id-2 {color: black;}#sk-container-id-2 pre{padding: 0;}#sk-container-id-2 div.sk-toggleable {background-color: white;}#sk-container-id-2 label.sk-toggleable__label {cursor: pointer;display: block;width: 100%;margin-bottom: 0;padding: 0.3em;box-sizing: border-box;text-align: center;}#sk-container-id-2 label.sk-toggleable__label-arrow:before {content: \"▸\";float: left;margin-right: 0.25em;color: #696969;}#sk-container-id-2 label.sk-toggleable__label-arrow:hover:before {color: black;}#sk-container-id-2 div.sk-estimator:hover label.sk-toggleable__label-arrow:before {color: black;}#sk-container-id-2 div.sk-toggleable__content {max-height: 0;max-width: 0;overflow: hidden;text-align: left;background-color: #f0f8ff;}#sk-container-id-2 div.sk-toggleable__content pre {margin: 0.2em;color: black;border-radius: 0.25em;background-color: #f0f8ff;}#sk-container-id-2 input.sk-toggleable__control:checked~div.sk-toggleable__content {max-height: 200px;max-width: 100%;overflow: auto;}#sk-container-id-2 input.sk-toggleable__control:checked~label.sk-toggleable__label-arrow:before {content: \"▾\";}#sk-container-id-2 div.sk-estimator input.sk-toggleable__control:checked~label.sk-toggleable__label {background-color: #d4ebff;}#sk-container-id-2 div.sk-label input.sk-toggleable__control:checked~label.sk-toggleable__label {background-color: #d4ebff;}#sk-container-id-2 input.sk-hidden--visually {border: 0;clip: rect(1px 1px 1px 1px);clip: rect(1px, 1px, 1px, 1px);height: 1px;margin: -1px;overflow: hidden;padding: 0;position: absolute;width: 1px;}#sk-container-id-2 div.sk-estimator {font-family: monospace;background-color: #f0f8ff;border: 1px dotted black;border-radius: 0.25em;box-sizing: border-box;margin-bottom: 0.5em;}#sk-container-id-2 div.sk-estimator:hover {background-color: #d4ebff;}#sk-container-id-2 div.sk-parallel-item::after {content: \"\";width: 100%;border-bottom: 1px solid gray;flex-grow: 1;}#sk-container-id-2 div.sk-label:hover label.sk-toggleable__label {background-color: #d4ebff;}#sk-container-id-2 div.sk-serial::before {content: \"\";position: absolute;border-left: 1px solid gray;box-sizing: border-box;top: 0;bottom: 0;left: 50%;z-index: 0;}#sk-container-id-2 div.sk-serial {display: flex;flex-direction: column;align-items: center;background-color: white;padding-right: 0.2em;padding-left: 0.2em;position: relative;}#sk-container-id-2 div.sk-item {position: relative;z-index: 1;}#sk-container-id-2 div.sk-parallel {display: flex;align-items: stretch;justify-content: center;background-color: white;position: relative;}#sk-container-id-2 div.sk-item::before, #sk-container-id-2 div.sk-parallel-item::before {content: \"\";position: absolute;border-left: 1px solid gray;box-sizing: border-box;top: 0;bottom: 0;left: 50%;z-index: -1;}#sk-container-id-2 div.sk-parallel-item {display: flex;flex-direction: column;z-index: 1;position: relative;background-color: white;}#sk-container-id-2 div.sk-parallel-item:first-child::after {align-self: flex-end;width: 50%;}#sk-container-id-2 div.sk-parallel-item:last-child::after {align-self: flex-start;width: 50%;}#sk-container-id-2 div.sk-parallel-item:only-child::after {width: 0;}#sk-container-id-2 div.sk-dashed-wrapped {border: 1px dashed gray;margin: 0 0.4em 0.5em 0.4em;box-sizing: border-box;padding-bottom: 0.4em;background-color: white;}#sk-container-id-2 div.sk-label label {font-family: monospace;font-weight: bold;display: inline-block;line-height: 1.2em;}#sk-container-id-2 div.sk-label-container {text-align: center;}#sk-container-id-2 div.sk-container {/* jupyter's `normalize.less` sets `[hidden] { display: none; }` but bootstrap.min.css set `[hidden] { display: none !important; }` so we also need the `!important` here to be able to override the default hidden behavior on the sphinx rendered scikit-learn.org. See: https://github.com/scikit-learn/scikit-learn/issues/21755 */display: inline-block !important;position: relative;}#sk-container-id-2 div.sk-text-repr-fallback {display: none;}</style><div id=\"sk-container-id-2\" class=\"sk-top-container\"><div class=\"sk-text-repr-fallback\"><pre>XGBRegressor(base_score=None, booster=None, callbacks=None,\n",
       "             colsample_bylevel=None, colsample_bynode=None,\n",
       "             colsample_bytree=None, device=None, early_stopping_rounds=None,\n",
       "             enable_categorical=False, eval_metric=None, feature_types=None,\n",
       "             gamma=None, grow_policy=None, importance_type=None,\n",
       "             interaction_constraints=None, learning_rate=0.05, max_bin=None,\n",
       "             max_cat_threshold=None, max_cat_to_onehot=None,\n",
       "             max_delta_step=None, max_depth=10, max_leaves=None,\n",
       "             min_child_weight=None, missing=nan, monotone_constraints=None,\n",
       "             multi_strategy=None, n_estimators=30, n_jobs=None,\n",
       "             num_parallel_tree=None, random_state=None, ...)</pre><b>In a Jupyter environment, please rerun this cell to show the HTML representation or trust the notebook. <br />On GitHub, the HTML representation is unable to render, please try loading this page with nbviewer.org.</b></div><div class=\"sk-container\" hidden><div class=\"sk-item\"><div class=\"sk-estimator sk-toggleable\"><input class=\"sk-toggleable__control sk-hidden--visually\" id=\"sk-estimator-id-2\" type=\"checkbox\" checked><label for=\"sk-estimator-id-2\" class=\"sk-toggleable__label sk-toggleable__label-arrow\">XGBRegressor</label><div class=\"sk-toggleable__content\"><pre>XGBRegressor(base_score=None, booster=None, callbacks=None,\n",
       "             colsample_bylevel=None, colsample_bynode=None,\n",
       "             colsample_bytree=None, device=None, early_stopping_rounds=None,\n",
       "             enable_categorical=False, eval_metric=None, feature_types=None,\n",
       "             gamma=None, grow_policy=None, importance_type=None,\n",
       "             interaction_constraints=None, learning_rate=0.05, max_bin=None,\n",
       "             max_cat_threshold=None, max_cat_to_onehot=None,\n",
       "             max_delta_step=None, max_depth=10, max_leaves=None,\n",
       "             min_child_weight=None, missing=nan, monotone_constraints=None,\n",
       "             multi_strategy=None, n_estimators=30, n_jobs=None,\n",
       "             num_parallel_tree=None, random_state=None, ...)</pre></div></div></div></div></div>"
      ],
      "text/plain": [
       "XGBRegressor(base_score=None, booster=None, callbacks=None,\n",
       "             colsample_bylevel=None, colsample_bynode=None,\n",
       "             colsample_bytree=None, device=None, early_stopping_rounds=None,\n",
       "             enable_categorical=False, eval_metric=None, feature_types=None,\n",
       "             gamma=None, grow_policy=None, importance_type=None,\n",
       "             interaction_constraints=None, learning_rate=0.05, max_bin=None,\n",
       "             max_cat_threshold=None, max_cat_to_onehot=None,\n",
       "             max_delta_step=None, max_depth=10, max_leaves=None,\n",
       "             min_child_weight=None, missing=nan, monotone_constraints=None,\n",
       "             multi_strategy=None, n_estimators=30, n_jobs=None,\n",
       "             num_parallel_tree=None, random_state=None, ...)"
      ]
     },
     "execution_count": 16,
     "metadata": {},
     "output_type": "execute_result"
    }
   ],
   "source": [
    "#xgboost.fit(X_train.drop('index',axis=1), y_train)\n",
    "xgboost.fit(X_train.drop('index',axis=1), y_train)"
   ]
  },
  {
   "cell_type": "markdown",
   "id": "493c445e-13cb-47b8-aac1-d382649964c6",
   "metadata": {
    "jp-MarkdownHeadingCollapsed": true
   },
   "source": [
    "### Validación Cruzada"
   ]
  },
  {
   "cell_type": "code",
   "execution_count": 26,
   "id": "0ddac1bf-02a9-4568-88b4-28df15d91615",
   "metadata": {},
   "outputs": [],
   "source": [
    "from sklearn.model_selection import GridSearchCV\n",
    "from sklearn.model_selection import KFold"
   ]
  },
  {
   "cell_type": "code",
   "execution_count": 27,
   "id": "e2702563-5cbe-40db-a7f4-69566f2025e3",
   "metadata": {},
   "outputs": [],
   "source": [
    "# Definir los hiperparámetros a ajustar\n",
    "parameters = {'learning_rate': [0.05, 0.075, 0.1],\n",
    "              'max_depth': [10, 12, 15],\n",
    "              'n_estimators': [70, 80, 100]}"
   ]
  },
  {
   "cell_type": "code",
   "execution_count": 28,
   "id": "05f072b6-96b0-4147-bea6-7ebadcc43161",
   "metadata": {},
   "outputs": [],
   "source": [
    "# Configurar la validación cruzada\n",
    "#kfold = KFold(n_splits=5, shuffle=True, random_state=42)"
   ]
  },
  {
   "cell_type": "code",
   "execution_count": 29,
   "id": "ad93a91f-7322-4087-9ba7-ead33275dd4d",
   "metadata": {
    "scrolled": true
   },
   "outputs": [],
   "source": [
    "# Realizar la búsqueda de parámetros\n",
    "#grid_search = GridSearchCV(estimator=xgboost, param_grid=parameters, cv=kfold, scoring='neg_mean_squared_error', verbose = 3)\n",
    "#grid_result = grid_search.fit(X_train, y_train)"
   ]
  },
  {
   "cell_type": "code",
   "execution_count": 30,
   "id": "dbea5e8f-8a0f-4e77-8970-cc209885506b",
   "metadata": {},
   "outputs": [],
   "source": [
    "# Imprimir los resultados\n",
    "#print(\"Mejor: %f usando %s\" % (grid_result.best_score_, grid_result.best_params_))"
   ]
  },
  {
   "cell_type": "code",
   "execution_count": 31,
   "id": "f2321843-bdfb-47be-951b-d0b65fe59353",
   "metadata": {},
   "outputs": [],
   "source": [
    "kf = KFold(n_splits=5, shuffle=True, random_state=42)\n",
    "X_train_xgb_prueba = X_train.copy()\n",
    "X_train_xgb_prueba = X_train_xgb_prueba.reset_index()\n",
    "y_train_xgb_prueba = y_train.copy()\n",
    "y_train_xgb_prueba = y_train_xgb_prueba.reset_index()\n",
    "\n",
    "\n",
    "X_train_xgb_prueba = X_train_xgb_prueba.drop('index', axis=1)\n",
    "y_train_xgb_prueba = y_train_xgb_prueba.drop('index', axis=1)"
   ]
  },
  {
   "cell_type": "code",
   "execution_count": 32,
   "id": "ed6151af-3a58-49a9-825f-7af37356c1df",
   "metadata": {},
   "outputs": [
    {
     "name": "stdout",
     "output_type": "stream",
     "text": [
      "15\n",
      "20\n",
      "30\n",
      "40\n",
      "50\n",
      "70\n",
      "80\n",
      "100\n",
      "0.003095794014860334\n",
      "0.00010028448071690411\n"
     ]
    }
   ],
   "source": [
    "mse_test_list_total = dict()\n",
    "mse_train_list_total = dict()\n",
    "for i in [15,20,30,40,50,70,80,100]:\n",
    "    print(i)\n",
    "    mse_test_list = []\n",
    "    mse_train_list = []\n",
    "    for train_index, test_index in kf.split(X_train_xgb_prueba):\n",
    "        X_train_cv, X_test_cv = X_train_xgb_prueba.iloc[train_index], X_train_xgb_prueba.iloc[test_index]\n",
    "        y_train_cv, y_test_cv = y_train_xgb_prueba.iloc[train_index], y_train_xgb_prueba.iloc[test_index]\n",
    "        \n",
    "        # Inicializar el modelo de clasificación\n",
    "        xgboost_cv = xgb.XGBRegressor(learning_rate=0.08, max_depth=10, n_estimators=i)\n",
    "    \n",
    "        # Ajustar el modelo con los datos de entrenamiento\n",
    "        xgboost_cv.fit(X_train_cv, y_train_cv)\n",
    "    \n",
    "        # Hacer predicciones en los datos de prueba\n",
    "        y_pred_test_cv = xgboost_cv.predict(X_test_cv)\n",
    "        y_pred_train_cv = xgboost_cv.predict(X_train_cv)\n",
    "    \n",
    "        # Calcular la precisión y agregarla a la lista de puntuaciones\n",
    "        mse_test = mean_squared_error(y_test_cv, y_pred_test_cv)\n",
    "        mse_train = mean_squared_error(y_train_cv, y_pred_train_cv)\n",
    "        #print(y_test_cv)\n",
    "        #print(y_pred_cv)\n",
    "        mse_test_list.append(mse_test)\n",
    "        mse_train_list.append(mse_train)\n",
    "        \n",
    "    mse_cv_test = np.mean(mse_test_list)\n",
    "    mse_test_list_total[i] = mse_cv_test\n",
    "    mse_cv_train = np.mean(mse_train_list)\n",
    "    mse_train_list_total[i] = mse_cv_train\n",
    "print(mse_cv_test)\n",
    "print(mse_cv_train)\n",
    "\n",
    "df_curve = pd.DataFrame(list(mse_test_list_total.items()), columns=['Index', 'ErrorTest'])\n",
    "df_curve_2 = pd.DataFrame(list(mse_train_list_total.items()), columns=['Index', 'ErrorTrain'])\n",
    "df_curve = pd.merge(df_curve,df_curve_2,on='Index',how='left')\n",
    "#df_curve = pd.DataFrame(mse_test_list_total)"
   ]
  },
  {
   "cell_type": "code",
   "execution_count": 33,
   "id": "f63571f8-d269-4195-a016-4e941f4d1e70",
   "metadata": {},
   "outputs": [
    {
     "data": {
      "text/html": [
       "\n",
       "<style>\n",
       "  #altair-viz-ad3aeb025eb3450f91590f5de22a6707.vega-embed {\n",
       "    width: 100%;\n",
       "    display: flex;\n",
       "  }\n",
       "\n",
       "  #altair-viz-ad3aeb025eb3450f91590f5de22a6707.vega-embed details,\n",
       "  #altair-viz-ad3aeb025eb3450f91590f5de22a6707.vega-embed details summary {\n",
       "    position: relative;\n",
       "  }\n",
       "</style>\n",
       "<div id=\"altair-viz-ad3aeb025eb3450f91590f5de22a6707\"></div>\n",
       "<script type=\"text/javascript\">\n",
       "  var VEGA_DEBUG = (typeof VEGA_DEBUG == \"undefined\") ? {} : VEGA_DEBUG;\n",
       "  (function(spec, embedOpt){\n",
       "    let outputDiv = document.currentScript.previousElementSibling;\n",
       "    if (outputDiv.id !== \"altair-viz-ad3aeb025eb3450f91590f5de22a6707\") {\n",
       "      outputDiv = document.getElementById(\"altair-viz-ad3aeb025eb3450f91590f5de22a6707\");\n",
       "    }\n",
       "    const paths = {\n",
       "      \"vega\": \"https://cdn.jsdelivr.net/npm/vega@5?noext\",\n",
       "      \"vega-lib\": \"https://cdn.jsdelivr.net/npm/vega-lib?noext\",\n",
       "      \"vega-lite\": \"https://cdn.jsdelivr.net/npm/vega-lite@5.14.1?noext\",\n",
       "      \"vega-embed\": \"https://cdn.jsdelivr.net/npm/vega-embed@6?noext\",\n",
       "    };\n",
       "\n",
       "    function maybeLoadScript(lib, version) {\n",
       "      var key = `${lib.replace(\"-\", \"\")}_version`;\n",
       "      return (VEGA_DEBUG[key] == version) ?\n",
       "        Promise.resolve(paths[lib]) :\n",
       "        new Promise(function(resolve, reject) {\n",
       "          var s = document.createElement('script');\n",
       "          document.getElementsByTagName(\"head\")[0].appendChild(s);\n",
       "          s.async = true;\n",
       "          s.onload = () => {\n",
       "            VEGA_DEBUG[key] = version;\n",
       "            return resolve(paths[lib]);\n",
       "          };\n",
       "          s.onerror = () => reject(`Error loading script: ${paths[lib]}`);\n",
       "          s.src = paths[lib];\n",
       "        });\n",
       "    }\n",
       "\n",
       "    function showError(err) {\n",
       "      outputDiv.innerHTML = `<div class=\"error\" style=\"color:red;\">${err}</div>`;\n",
       "      throw err;\n",
       "    }\n",
       "\n",
       "    function displayChart(vegaEmbed) {\n",
       "      vegaEmbed(outputDiv, spec, embedOpt)\n",
       "        .catch(err => showError(`Javascript Error: ${err.message}<br>This usually means there's a typo in your chart specification. See the javascript console for the full traceback.`));\n",
       "    }\n",
       "\n",
       "    if(typeof define === \"function\" && define.amd) {\n",
       "      requirejs.config({paths});\n",
       "      require([\"vega-embed\"], displayChart, err => showError(`Error loading script: ${err.message}`));\n",
       "    } else {\n",
       "      maybeLoadScript(\"vega\", \"5\")\n",
       "        .then(() => maybeLoadScript(\"vega-lite\", \"5.14.1\"))\n",
       "        .then(() => maybeLoadScript(\"vega-embed\", \"6\"))\n",
       "        .catch(showError)\n",
       "        .then(() => displayChart(vegaEmbed));\n",
       "    }\n",
       "  })({\"config\": {\"view\": {\"continuousWidth\": 300, \"continuousHeight\": 300}}, \"data\": {\"name\": \"data-07ae2756d81c80282f717574affa57f2\"}, \"mark\": {\"type\": \"line\", \"point\": true}, \"encoding\": {\"color\": {\"field\": \"variable\", \"type\": \"nominal\"}, \"x\": {\"field\": \"Index\", \"type\": \"quantitative\"}, \"y\": {\"field\": \"value\", \"type\": \"quantitative\"}}, \"height\": 400, \"title\": \"Gr\\u00e1fico de L\\u00edneas para Columnas A y B\", \"width\": 600, \"$schema\": \"https://vega.github.io/schema/vega-lite/v5.14.1.json\", \"datasets\": {\"data-07ae2756d81c80282f717574affa57f2\": [{\"Index\": 15, \"variable\": \"ErrorTest\", \"value\": 0.0036635729400847548}, {\"Index\": 20, \"variable\": \"ErrorTest\", \"value\": 0.003190623051123418}, {\"Index\": 30, \"variable\": \"ErrorTest\", \"value\": 0.0029207431238736123}, {\"Index\": 40, \"variable\": \"ErrorTest\", \"value\": 0.00290508418156637}, {\"Index\": 50, \"variable\": \"ErrorTest\", \"value\": 0.002935215011762324}, {\"Index\": 70, \"variable\": \"ErrorTest\", \"value\": 0.0030123485784535873}, {\"Index\": 80, \"variable\": \"ErrorTest\", \"value\": 0.0030415542331034043}, {\"Index\": 100, \"variable\": \"ErrorTest\", \"value\": 0.003095794014860334}, {\"Index\": 15, \"variable\": \"ErrorTrain\", \"value\": 0.0020049232382672705}, {\"Index\": 20, \"variable\": \"ErrorTrain\", \"value\": 0.0012508126687402175}, {\"Index\": 30, \"variable\": \"ErrorTrain\", \"value\": 0.0006117525182974738}, {\"Index\": 40, \"variable\": \"ErrorTrain\", \"value\": 0.0003835863299863107}, {\"Index\": 50, \"variable\": \"ErrorTrain\", \"value\": 0.0002743310076460897}, {\"Index\": 70, \"variable\": \"ErrorTrain\", \"value\": 0.00016410273496026518}, {\"Index\": 80, \"variable\": \"ErrorTrain\", \"value\": 0.00013797633195064603}, {\"Index\": 100, \"variable\": \"ErrorTrain\", \"value\": 0.00010028448071690411}]}}, {\"mode\": \"vega-lite\"});\n",
       "</script>"
      ],
      "text/plain": [
       "alt.Chart(...)"
      ]
     },
     "execution_count": 33,
     "metadata": {},
     "output_type": "execute_result"
    }
   ],
   "source": [
    "# Supongamos que tienes un DataFrame llamado 'df' con columnas \"indice\", \"columna_A\" y \"columna_B\"\n",
    "\n",
    "# Convertir el DataFrame de pandas a un formato aceptado por Altair\n",
    "df_altair = pd.melt(df_curve, id_vars=['Index'], value_vars=['ErrorTest', 'ErrorTrain'])\n",
    "\n",
    "# Crear el gráfico de líneas divididas por color en Altair\n",
    "line_chart = alt.Chart(df_altair).mark_line(point=True).encode(\n",
    "    x='Index:Q',\n",
    "    y='value:Q',\n",
    "    color='variable:N'\n",
    ").properties(\n",
    "    width=600,\n",
    "    height=400,\n",
    "    title='Gráfico de Líneas para Columnas A y B'\n",
    ")\n",
    "\n",
    "# Mostrar el gráfico\n",
    "line_chart"
   ]
  },
  {
   "cell_type": "markdown",
   "id": "5f725d79-7dee-4e44-9160-f910e4859373",
   "metadata": {},
   "source": [
    "## Redes Neuronales\n",
    "\n",
    "RMSE: 0.24"
   ]
  },
  {
   "cell_type": "code",
   "execution_count": 17,
   "id": "c8e05550-7e6d-4f91-ba7c-67253546b655",
   "metadata": {},
   "outputs": [],
   "source": [
    "from sklearn.neural_network import MLPRegressor\n",
    "from sklearn.model_selection import train_test_split\n",
    "from sklearn.preprocessing import StandardScaler\n",
    "from sklearn.model_selection import KFold"
   ]
  },
  {
   "cell_type": "code",
   "execution_count": 18,
   "id": "a37b8371-cba9-44cc-b3dd-db0f8ff432a0",
   "metadata": {},
   "outputs": [],
   "source": [
    "X_train_NN = X_train.drop('index',axis=1)\n",
    "#X_test_NN = X_test#.drop('index',axis=1)"
   ]
  },
  {
   "cell_type": "code",
   "execution_count": 19,
   "id": "5e6cd0ef-77b9-47bc-9361-1edcf045cbe6",
   "metadata": {},
   "outputs": [],
   "source": [
    "scaler_NN = StandardScaler()\n",
    "X_train_scaled_NN = scaler_NN.fit_transform(X_train_NN)\n",
    "#X_test_scaled_NN = scaler.transform(X_test_NN)"
   ]
  },
  {
   "cell_type": "code",
   "execution_count": 22,
   "id": "8d6b1244-bcca-4292-9387-94fe13991d90",
   "metadata": {},
   "outputs": [],
   "source": [
    "# Definir el modelo de redes neuronales para regresión\n",
    "model_NN = MLPRegressor(hidden_layer_sizes=(100,200,200,100,), activation='relu', alpha=0.001, solver='adam',random_state=42, max_iter=70,learning_rate_init=0.0015)"
   ]
  },
  {
   "cell_type": "code",
   "execution_count": 23,
   "id": "feaddfd9-bbb1-4ae5-9472-87edb7938447",
   "metadata": {
    "scrolled": true
   },
   "outputs": [
    {
     "name": "stdout",
     "output_type": "stream",
     "text": [
      "1\n",
      "2\n",
      "3\n",
      "4\n",
      "5\n",
      "6\n",
      "7\n",
      "8\n",
      "9\n",
      "10\n",
      "11\n",
      "12\n",
      "13\n",
      "14\n",
      "15\n",
      "16\n",
      "17\n",
      "18\n",
      "19\n",
      "20\n",
      "21\n",
      "22\n",
      "23\n",
      "24\n",
      "25\n",
      "26\n",
      "27\n",
      "28\n",
      "29\n",
      "30\n",
      "31\n",
      "32\n",
      "33\n",
      "34\n",
      "35\n",
      "36\n",
      "37\n",
      "38\n",
      "39\n",
      "40\n",
      "41\n",
      "42\n",
      "43\n",
      "44\n",
      "45\n",
      "46\n",
      "47\n",
      "48\n",
      "49\n",
      "50\n",
      "51\n",
      "52\n",
      "53\n",
      "54\n",
      "55\n",
      "56\n",
      "57\n",
      "58\n",
      "59\n",
      "60\n",
      "61\n",
      "62\n",
      "63\n",
      "64\n",
      "65\n",
      "66\n",
      "67\n",
      "68\n",
      "69\n"
     ]
    }
   ],
   "source": [
    "#mse_train_list = []\n",
    "#mse_test_list = []\n",
    "for i in range(1,70):\n",
    "    print(i)\n",
    "\n",
    "    model_NN.partial_fit(X_train_scaled_NN, y_train)\n",
    "    # Hacer predicciones en el conjunto de prueba\n",
    "    #y_pred_train = model.predict(X_train_scaled_NN)\n",
    "    #y_pred_test = model.predict(X_test_scaled_NN)\n",
    "    #mse_train = mean_squared_error(y_train, y_pred_train)\n",
    "    #mse_train_list.append(mse_train)\n",
    "    #mse_test = mean_squared_error(y_test, y_pred_test)\n",
    "    #mse_test_list.append(mse_test)\n",
    "\n",
    "#df_curve = pd.DataFrame()\n",
    "#df_curve['train'] = mse_train_list\n",
    "#df_curve['test'] = mse_test_list\n",
    "#df_curve = df_curve.reset_index()\n"
   ]
  },
  {
   "cell_type": "markdown",
   "id": "b96db69f-f8c6-4aff-a808-a73e15b011f6",
   "metadata": {},
   "source": [
    "## Exportar Modelos"
   ]
  },
  {
   "cell_type": "code",
   "execution_count": 38,
   "id": "9d5ea712-2589-4729-bcca-f193b44d4383",
   "metadata": {},
   "outputs": [
    {
     "data": {
      "text/plain": [
       "['scaler_NN_model_CTR_v4.joblib']"
      ]
     },
     "execution_count": 38,
     "metadata": {},
     "output_type": "execute_result"
    }
   ],
   "source": [
    "import joblib\n",
    "joblib.dump(scaler, nombre_scaler)  # nombre_scaler = 'scaler_model_CPC_v3.joblib'\n",
    "joblib.dump(pca, nombre_pca)  # nombre_pca = 'pca_model_CPC_v3.joblib'\n",
    "\n",
    "joblib.dump(rf, nombre_RF) # nombre_RF = 'model_rf_CPC_v3.joblib'\n",
    "xgboost.save_model(nombre_XGB) # nombre_XGB = 'model_xgboost_v3.json'\n",
    "joblib.dump(model_NN, nombre_NN)  # nombre_NN = 'model_NN_CPC_v3.joblib'\n",
    "joblib.dump(scaler_NN, nombre_scaler_NN)  # nombre_scaler_NN = 'scaler_NN_model_CPC_v3.joblib'"
   ]
  },
  {
   "cell_type": "code",
   "execution_count": null,
   "id": "4f3ac819-4aff-4f1b-9808-18610efc0531",
   "metadata": {},
   "outputs": [],
   "source": []
  },
  {
   "cell_type": "markdown",
   "id": "203e1342-bd82-496c-b333-705411ca8a20",
   "metadata": {},
   "source": [
    "## SHAP"
   ]
  },
  {
   "cell_type": "code",
   "execution_count": 25,
   "id": "d87195c9-0b10-4b0b-b839-0ed2c49ced4d",
   "metadata": {},
   "outputs": [],
   "source": [
    "import shap"
   ]
  },
  {
   "cell_type": "code",
   "execution_count": 26,
   "id": "55cb595d-3af5-4472-bb5d-4a677a90c52a",
   "metadata": {},
   "outputs": [],
   "source": [
    "# Crea un objeto explainer de Shap\n",
    "explainer_rf = shap.Explainer(rf)\n",
    "\n",
    "# Calcula los Shap values para un conjunto de datos (puedes ajustar n_samples según tus necesidades)\n",
    "shap_values_rf = explainer_rf.shap_values(X_train)\n",
    "\n",
    "# Calcula la importancia promedio de cada característica\n",
    "feature_importance_rf = pd.DataFrame(abs(shap_values_rf).mean(axis=0), columns=['Importance'])\n",
    "feature_importance_rf['Feature'] = X_train.columns\n",
    "\n",
    "# Ordena el DataFrame por importancia\n",
    "feature_importance_rf = feature_importance_rf.sort_values(by='Importance', ascending=False)\n",
    "\n",
    "feature_importance_rf = feature_importance_rf.set_index('Feature')\n",
    "feature_importance_rf = feature_importance_rf.rename(columns={'Importance': 'Importance_rf'})"
   ]
  },
  {
   "cell_type": "code",
   "execution_count": 27,
   "id": "d2a6101b-0d10-4c53-906e-817b2118cc03",
   "metadata": {},
   "outputs": [
    {
     "name": "stderr",
     "output_type": "stream",
     "text": [
      "[20:31:52] WARNING: C:\\buildkite-agent\\builds\\buildkite-windows-cpu-autoscaling-group-i-0cec3277c4d9d0165-1\\xgboost\\xgboost-ci-windows\\src\\c_api\\c_api.cc:1240: Saving into deprecated binary model format, please consider using `json` or `ubj`. Model format will default to JSON in XGBoost 2.2 if not specified.\n"
     ]
    }
   ],
   "source": [
    "# Crea un objeto explainer de Shap\n",
    "explainer_xgb = shap.Explainer(xgboost)\n",
    "\n",
    "# Calcula los Shap values para un conjunto de datos (puedes ajustar n_samples según tus necesidades)\n",
    "shap_values_xgb = explainer_xgb.shap_values(X_train[xgboost.feature_names_in_])\n",
    "\n",
    "# Calcula la importancia promedio de cada característica\n",
    "feature_importance_xgb = pd.DataFrame(abs(shap_values_xgb).mean(axis=0), columns=['Importance'])\n",
    "feature_importance_xgb['Feature'] = X_train[xgboost.feature_names_in_].columns\n",
    "\n",
    "# Ordena el DataFrame por importancia\n",
    "feature_importance_xgb = feature_importance_xgb.sort_values(by='Importance', ascending=False)\n",
    "\n",
    "feature_importance_xgb = feature_importance_xgb.set_index('Feature')\n",
    "feature_importance_xgb = feature_importance_xgb.rename(columns={'Importance': 'Importance_xgb'})"
   ]
  },
  {
   "cell_type": "code",
   "execution_count": 28,
   "id": "f303b035-f58d-4aee-a304-c880f6c616d2",
   "metadata": {},
   "outputs": [],
   "source": [
    "model_importance = pd.merge(feature_importance_rf,feature_importance_xgb,on='Feature',how='left')\n",
    "model_importance['Importance'] = model_importance['Importance_rf']+model_importance['Importance_xgb']\n",
    "model_importance = model_importance.sort_values(by='Importance',ascending=False)"
   ]
  },
  {
   "cell_type": "code",
   "execution_count": 29,
   "id": "c3b221cc-8366-4504-b1a7-a844e48fb6b1",
   "metadata": {},
   "outputs": [
    {
     "data": {
      "text/html": [
       "<div>\n",
       "<style scoped>\n",
       "    .dataframe tbody tr th:only-of-type {\n",
       "        vertical-align: middle;\n",
       "    }\n",
       "\n",
       "    .dataframe tbody tr th {\n",
       "        vertical-align: top;\n",
       "    }\n",
       "\n",
       "    .dataframe thead th {\n",
       "        text-align: right;\n",
       "    }\n",
       "</style>\n",
       "<table border=\"1\" class=\"dataframe\">\n",
       "  <thead>\n",
       "    <tr style=\"text-align: right;\">\n",
       "      <th></th>\n",
       "      <th>Importance_rf</th>\n",
       "      <th>Importance_xgb</th>\n",
       "      <th>Importance</th>\n",
       "    </tr>\n",
       "    <tr>\n",
       "      <th>Feature</th>\n",
       "      <th></th>\n",
       "      <th></th>\n",
       "      <th></th>\n",
       "    </tr>\n",
       "  </thead>\n",
       "  <tbody>\n",
       "    <tr>\n",
       "      <th>Media_type_Display</th>\n",
       "      <td>0.066091</td>\n",
       "      <td>0.002775</td>\n",
       "      <td>0.068866</td>\n",
       "    </tr>\n",
       "    <tr>\n",
       "      <th>Media_type_Search</th>\n",
       "      <td>0.000809</td>\n",
       "      <td>0.054523</td>\n",
       "      <td>0.055332</td>\n",
       "    </tr>\n",
       "    <tr>\n",
       "      <th>X_pca_0</th>\n",
       "      <td>0.014566</td>\n",
       "      <td>0.010690</td>\n",
       "      <td>0.025256</td>\n",
       "    </tr>\n",
       "    <tr>\n",
       "      <th>X_pca_1</th>\n",
       "      <td>0.000000</td>\n",
       "      <td>0.022832</td>\n",
       "      <td>0.022832</td>\n",
       "    </tr>\n",
       "    <tr>\n",
       "      <th>Mes</th>\n",
       "      <td>0.015996</td>\n",
       "      <td>0.001643</td>\n",
       "      <td>0.017639</td>\n",
       "    </tr>\n",
       "    <tr>\n",
       "      <th>...</th>\n",
       "      <td>...</td>\n",
       "      <td>...</td>\n",
       "      <td>...</td>\n",
       "    </tr>\n",
       "    <tr>\n",
       "      <th>Bench FB CTR</th>\n",
       "      <td>0.000000</td>\n",
       "      <td>0.000000</td>\n",
       "      <td>0.000000</td>\n",
       "    </tr>\n",
       "    <tr>\n",
       "      <th>Bench FB AvgCR</th>\n",
       "      <td>0.000000</td>\n",
       "      <td>0.000000</td>\n",
       "      <td>0.000000</td>\n",
       "    </tr>\n",
       "    <tr>\n",
       "      <th>Bench YT CPV</th>\n",
       "      <td>0.000000</td>\n",
       "      <td>0.000000</td>\n",
       "      <td>0.000000</td>\n",
       "    </tr>\n",
       "    <tr>\n",
       "      <th>Bench YT CTR</th>\n",
       "      <td>0.000000</td>\n",
       "      <td>0.000000</td>\n",
       "      <td>0.000000</td>\n",
       "    </tr>\n",
       "    <tr>\n",
       "      <th>index</th>\n",
       "      <td>0.000539</td>\n",
       "      <td>NaN</td>\n",
       "      <td>NaN</td>\n",
       "    </tr>\n",
       "  </tbody>\n",
       "</table>\n",
       "<p>108 rows × 3 columns</p>\n",
       "</div>"
      ],
      "text/plain": [
       "                    Importance_rf  Importance_xgb  Importance\n",
       "Feature                                                      \n",
       "Media_type_Display       0.066091        0.002775    0.068866\n",
       "Media_type_Search        0.000809        0.054523    0.055332\n",
       "X_pca_0                  0.014566        0.010690    0.025256\n",
       "X_pca_1                  0.000000        0.022832    0.022832\n",
       "Mes                      0.015996        0.001643    0.017639\n",
       "...                           ...             ...         ...\n",
       "Bench FB CTR             0.000000        0.000000    0.000000\n",
       "Bench FB AvgCR           0.000000        0.000000    0.000000\n",
       "Bench YT CPV             0.000000        0.000000    0.000000\n",
       "Bench YT CTR             0.000000        0.000000    0.000000\n",
       "index                    0.000539             NaN         NaN\n",
       "\n",
       "[108 rows x 3 columns]"
      ]
     },
     "execution_count": 29,
     "metadata": {},
     "output_type": "execute_result"
    }
   ],
   "source": [
    "model_importance"
   ]
  },
  {
   "cell_type": "code",
   "execution_count": 30,
   "id": "3d265bbe-ca4e-4617-a4ba-bbd35efbf9f7",
   "metadata": {},
   "outputs": [],
   "source": [
    "grupos_features = pd.read_csv('Grupos_features_v4.csv')"
   ]
  },
  {
   "cell_type": "code",
   "execution_count": 31,
   "id": "3a4b7635-e1ad-477e-9f68-19de344e5692",
   "metadata": {},
   "outputs": [],
   "source": [
    "model_importance = pd.merge(model_importance,grupos_features,on='Feature',how='left')\n",
    "model_importance_gr = model_importance.groupby('Grupo').sum('Importance')['Importance'].sort_values(ascending=False)"
   ]
  },
  {
   "cell_type": "code",
   "execution_count": 33,
   "id": "e3247ec4-4f3e-439e-94f3-d10364ad84a9",
   "metadata": {},
   "outputs": [],
   "source": [
    "model_importance_gr = pd.DataFrame(model_importance_gr).reset_index()"
   ]
  },
  {
   "cell_type": "code",
   "execution_count": 36,
   "id": "74f7b524-2f80-421d-a788-47da9bd78427",
   "metadata": {},
   "outputs": [],
   "source": [
    "chart = alt.Chart(model_importance_gr).mark_bar(color='red').encode(\n",
    "    x=alt.X('Importance:Q', title='Importancia'),\n",
    "    y=alt.Y('Grupo:N', title='Grupo', sort='-x'),\n",
    ").properties(\n",
    "    title='CTR'\n",
    ")"
   ]
  },
  {
   "cell_type": "code",
   "execution_count": 37,
   "id": "3e721ce4-78a3-4c78-983d-68344544db19",
   "metadata": {},
   "outputs": [
    {
     "data": {
      "text/html": [
       "\n",
       "<style>\n",
       "  #altair-viz-d27e35d98b7b4946be1151723f37fd6f.vega-embed {\n",
       "    width: 100%;\n",
       "    display: flex;\n",
       "  }\n",
       "\n",
       "  #altair-viz-d27e35d98b7b4946be1151723f37fd6f.vega-embed details,\n",
       "  #altair-viz-d27e35d98b7b4946be1151723f37fd6f.vega-embed details summary {\n",
       "    position: relative;\n",
       "  }\n",
       "</style>\n",
       "<div id=\"altair-viz-d27e35d98b7b4946be1151723f37fd6f\"></div>\n",
       "<script type=\"text/javascript\">\n",
       "  var VEGA_DEBUG = (typeof VEGA_DEBUG == \"undefined\") ? {} : VEGA_DEBUG;\n",
       "  (function(spec, embedOpt){\n",
       "    let outputDiv = document.currentScript.previousElementSibling;\n",
       "    if (outputDiv.id !== \"altair-viz-d27e35d98b7b4946be1151723f37fd6f\") {\n",
       "      outputDiv = document.getElementById(\"altair-viz-d27e35d98b7b4946be1151723f37fd6f\");\n",
       "    }\n",
       "    const paths = {\n",
       "      \"vega\": \"https://cdn.jsdelivr.net/npm/vega@5?noext\",\n",
       "      \"vega-lib\": \"https://cdn.jsdelivr.net/npm/vega-lib?noext\",\n",
       "      \"vega-lite\": \"https://cdn.jsdelivr.net/npm/vega-lite@5.14.1?noext\",\n",
       "      \"vega-embed\": \"https://cdn.jsdelivr.net/npm/vega-embed@6?noext\",\n",
       "    };\n",
       "\n",
       "    function maybeLoadScript(lib, version) {\n",
       "      var key = `${lib.replace(\"-\", \"\")}_version`;\n",
       "      return (VEGA_DEBUG[key] == version) ?\n",
       "        Promise.resolve(paths[lib]) :\n",
       "        new Promise(function(resolve, reject) {\n",
       "          var s = document.createElement('script');\n",
       "          document.getElementsByTagName(\"head\")[0].appendChild(s);\n",
       "          s.async = true;\n",
       "          s.onload = () => {\n",
       "            VEGA_DEBUG[key] = version;\n",
       "            return resolve(paths[lib]);\n",
       "          };\n",
       "          s.onerror = () => reject(`Error loading script: ${paths[lib]}`);\n",
       "          s.src = paths[lib];\n",
       "        });\n",
       "    }\n",
       "\n",
       "    function showError(err) {\n",
       "      outputDiv.innerHTML = `<div class=\"error\" style=\"color:red;\">${err}</div>`;\n",
       "      throw err;\n",
       "    }\n",
       "\n",
       "    function displayChart(vegaEmbed) {\n",
       "      vegaEmbed(outputDiv, spec, embedOpt)\n",
       "        .catch(err => showError(`Javascript Error: ${err.message}<br>This usually means there's a typo in your chart specification. See the javascript console for the full traceback.`));\n",
       "    }\n",
       "\n",
       "    if(typeof define === \"function\" && define.amd) {\n",
       "      requirejs.config({paths});\n",
       "      require([\"vega-embed\"], displayChart, err => showError(`Error loading script: ${err.message}`));\n",
       "    } else {\n",
       "      maybeLoadScript(\"vega\", \"5\")\n",
       "        .then(() => maybeLoadScript(\"vega-lite\", \"5.14.1\"))\n",
       "        .then(() => maybeLoadScript(\"vega-embed\", \"6\"))\n",
       "        .catch(showError)\n",
       "        .then(() => displayChart(vegaEmbed));\n",
       "    }\n",
       "  })({\"config\": {\"view\": {\"continuousWidth\": 300, \"continuousHeight\": 300}}, \"data\": {\"name\": \"data-46d8c4b298814f37dc2a7fb5eb3995a1\"}, \"mark\": {\"type\": \"bar\", \"color\": \"red\"}, \"encoding\": {\"x\": {\"field\": \"Importance\", \"title\": \"Importancia\", \"type\": \"quantitative\"}, \"y\": {\"field\": \"Grupo\", \"sort\": \"-x\", \"title\": \"Grupo\", \"type\": \"nominal\"}}, \"title\": \"CTR\", \"$schema\": \"https://vega.github.io/schema/vega-lite/v5.14.1.json\", \"datasets\": {\"data-46d8c4b298814f37dc2a7fb5eb3995a1\": [{\"Grupo\": \"Media_type\", \"Importance\": 0.1323211060366536}, {\"Grupo\": \"X_pca\", \"Importance\": 0.0480877152066135}, {\"Grupo\": \"Objective\", \"Importance\": 0.021832681812221984}, {\"Grupo\": \"Campaign_Type\", \"Importance\": 0.019653878414930288}, {\"Grupo\": \"Mes\", \"Importance\": 0.017639016079871127}, {\"Grupo\": \"Country\", \"Importance\": 0.016468927424463646}, {\"Grupo\": \"Industria\", \"Importance\": 0.01623690585580746}, {\"Grupo\": \"Cost\", \"Importance\": 0.0056976391933858395}, {\"Grupo\": \"Service_Product\", \"Importance\": 0.004058319157268749}, {\"Grupo\": \"Client\", \"Importance\": 0.002603181086065422}, {\"Grupo\": \"Platform\", \"Importance\": 0.0025390591038356846}, {\"Grupo\": \"Strategy\", \"Importance\": 0.0016793997318373336}, {\"Grupo\": \"A\\u00f1o\", \"Importance\": 0.0015788928284408785}, {\"Grupo\": \"Traffic_source\", \"Importance\": 0.0011419716804133282}, {\"Grupo\": \"Format_New\", \"Importance\": 0.0006118270299692618}, {\"Grupo\": \"Plataforma\", \"Importance\": 0.0004329931321601522}, {\"Grupo\": \"Ecommerce\", \"Importance\": 4.271562278839802e-05}, {\"Grupo\": \"index\", \"Importance\": 0.0}]}}, {\"mode\": \"vega-lite\"});\n",
       "</script>"
      ],
      "text/plain": [
       "alt.Chart(...)"
      ]
     },
     "execution_count": 37,
     "metadata": {},
     "output_type": "execute_result"
    }
   ],
   "source": [
    "chart"
   ]
  },
  {
   "cell_type": "code",
   "execution_count": null,
   "id": "1875c098-5ea4-495d-9378-0181b80902f6",
   "metadata": {},
   "outputs": [],
   "source": []
  }
 ],
 "metadata": {
  "kernelspec": {
   "display_name": "Python 3 (ipykernel)",
   "language": "python",
   "name": "python3"
  },
  "language_info": {
   "codemirror_mode": {
    "name": "ipython",
    "version": 3
   },
   "file_extension": ".py",
   "mimetype": "text/x-python",
   "name": "python",
   "nbconvert_exporter": "python",
   "pygments_lexer": "ipython3",
   "version": "3.11.6"
  }
 },
 "nbformat": 4,
 "nbformat_minor": 5
}
