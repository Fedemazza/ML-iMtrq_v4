{
 "cells": [
  {
   "cell_type": "markdown",
   "id": "6c80bb1c-3c04-4a8d-a8d0-0f43dbcf6d9e",
   "metadata": {},
   "source": [
    "# Modelos de Machine Learning: Benchmarks"
   ]
  },
  {
   "cell_type": "markdown",
   "id": "423d49f0-29e0-49fc-b4ed-7e09b0a508d1",
   "metadata": {},
   "source": [
    "## Intro"
   ]
  },
  {
   "cell_type": "markdown",
   "id": "c86f696a-f648-45bd-8d73-54de33e0ba7d",
   "metadata": {},
   "source": [
    "## Config"
   ]
  },
  {
   "cell_type": "code",
   "execution_count": 1,
   "id": "099a5ff8-7a29-41d1-8742-185ee34be245",
   "metadata": {},
   "outputs": [],
   "source": [
    "Variable_Target = 'CPV'\n",
    "version = '4'\n",
    "\n",
    "nombre_scaler = 'scaler_model_'+Variable_Target+'_v'+version+'.joblib'\n",
    "nombre_pca = 'pca_model_'+Variable_Target+'_v'+version+'.joblib'\n",
    "\n",
    "nombre_RF = 'model_rf_'+Variable_Target+'_v'+version+'.joblib'\n",
    "nombre_XGB = 'model_xgboost_'+Variable_Target+'_v'+version+'.json'\n",
    "nombre_NN = 'model_NN_'+Variable_Target+'_v'+version+'.joblib'\n",
    "nombre_scaler_NN = 'scaler_NN_model_'+Variable_Target+'_v'+version+'.joblib'\n"
   ]
  },
  {
   "cell_type": "markdown",
   "id": "0758041d-77ac-4267-811f-4235b71c5f7c",
   "metadata": {},
   "source": [
    "### Imports"
   ]
  },
  {
   "cell_type": "code",
   "execution_count": 2,
   "id": "164679ee-5a17-4682-9220-e2cdf4eca59f",
   "metadata": {},
   "outputs": [],
   "source": [
    "import pandas as pd\n",
    "import numpy as np\n",
    "import joblib\n",
    "from sklearn.model_selection import train_test_split\n",
    "from sklearn.linear_model import LinearRegression\n",
    "from sklearn.preprocessing import OneHotEncoder\n",
    "from sklearn.compose import ColumnTransformer\n",
    "from sklearn.pipeline import Pipeline\n",
    "from sklearn.metrics import mean_squared_error\n",
    "from sklearn.metrics import mean_absolute_error\n",
    "from sklearn.metrics import r2_score\n",
    "from sklearn.decomposition import PCA\n",
    "import math\n",
    "import altair as alt"
   ]
  },
  {
   "cell_type": "markdown",
   "id": "26a139eb-7136-4ab2-afcc-0454284221b6",
   "metadata": {},
   "source": [
    "### Carga de Datos"
   ]
  },
  {
   "cell_type": "code",
   "execution_count": 3,
   "id": "96f17c7a-1b85-4e35-8de0-d0ece22d1530",
   "metadata": {},
   "outputs": [],
   "source": [
    "def load_data(df_in):\n",
    "    df = pd.read_csv(df_in+'.csv')\n",
    "    df = df.drop(\"Unnamed: 0\", axis=1)\n",
    "    return df\n",
    "\n",
    "# Cargar los datos\n",
    "df = load_data('df_C_S_v4')\n",
    "df = df[df['Client'] != 'Boxto']\n",
    "#df = df[df['Client'] != 'AOV']\n",
    "df = df.reset_index()\n",
    "df = df[df['Format_New']=='Video']"
   ]
  },
  {
   "cell_type": "markdown",
   "id": "c05b8c56-04f3-440a-943d-218ce84fe5cd",
   "metadata": {},
   "source": [
    "### Elección Output y features"
   ]
  },
  {
   "cell_type": "markdown",
   "id": "66cd404d-058c-4996-964d-4dbf3b243811",
   "metadata": {},
   "source": [
    "La regla empírica establece que:\n",
    "\n",
    "aproximadamente el 68% de los datos caerán dentro de 1 desviación estándar de la media,\n",
    "\n",
    "alrededor del 95% de los datos caerán dentro de 2 desviaciones estándar y\n",
    "\n",
    "aproximadamente el 99.7% de los datos caerán dentro de 3 desviaciones estándar de la media."
   ]
  },
  {
   "cell_type": "code",
   "execution_count": 4,
   "id": "4766c1ba-e8d8-4a82-8f5c-bb2e2ec48763",
   "metadata": {},
   "outputs": [
    {
     "data": {
      "text/plain": [
       "(1582, 56)"
      ]
     },
     "execution_count": 4,
     "metadata": {},
     "output_type": "execute_result"
    }
   ],
   "source": [
    "\n",
    "\n",
    "# Calcular la media y la desviación estándar de la variable objetivo y\n",
    "mean_y, std_y = np.mean(df[Variable_Target]), np.std(df[Variable_Target])\n",
    "outlier_threshold = 3 * std_y\n",
    "\n",
    "max_y = mean_y + (3 * std_y)\n",
    "min_y = mean_y - (3 * std_y)\n",
    "\n",
    "df = df[df[Variable_Target] <= max_y]\n",
    "df = df[df[Variable_Target] >= min_y]\n",
    "df.shape"
   ]
  },
  {
   "cell_type": "code",
   "execution_count": 5,
   "id": "387e3078-be68-428a-9b84-f695929e4842",
   "metadata": {},
   "outputs": [],
   "source": [
    "X = df.copy()\n",
    "X = pd.DataFrame(X, columns=['Client','Año','Mes', 'Objective', 'Cost', 'Country', 'Media_type', 'Traffic_source', 'Format_New','Platform','Strategy','Plataforma','Campaign_Type','Ecommerce','Service_Product',#])#,'Client'\n",
    "                            'Bench Gral CPC','Bench Search CPC','Bench GralSch CPL', 'Bench Search CPL','Bench GralSch CTR', 'Bench Search CTR', 'Bench GralSch CR','Bench Search AvgCR',\n",
    "                             'Bench GralFB CPC', 'Bench FB CPC','Bench GralFB CPAction', 'Bench FB CPAction', 'Bench GralFB CTR', 'Bench FB CTR', 'Bench GralFB CR', 'Bench FB AvgCR'\n",
    "                             ,'Bench GralYT CPV', 'Bench YT CPV', 'Bench GralYT CTR', 'Bench YT CTR','Bench GralYT VR', 'Bench FB AvgVR'])\n",
    "\n"
   ]
  },
  {
   "cell_type": "code",
   "execution_count": 6,
   "id": "cf5b2b76-a979-447a-80c1-3831ea488e38",
   "metadata": {},
   "outputs": [],
   "source": [
    "categorical_features = ['Client','Objective', 'Country', 'Media_type', 'Traffic_source','Format_New','Platform','Strategy','Plataforma','Campaign_Type','Ecommerce','Service_Product']  #,'Tipo Search','Tipo FB','Tipo YT'], 'Client'\n",
    "\n",
    "# Preprocesamiento de variables categóricas\n",
    "X_dum = pd.get_dummies(X, columns=categorical_features)\n",
    "X_dum = X_dum.reset_index()\n",
    "\n",
    "#Elijo el valor a predecir. CPC: La hipótesis es que el valor de COST es conocido y controlable: El output en rigor será Clicks y expresaremos el resultado en CPC Cost/Clicks\n",
    "y = df[Variable_Target]"
   ]
  },
  {
   "cell_type": "code",
   "execution_count": 7,
   "id": "55fad986-1f8a-4afc-82bb-3e6ffa81677e",
   "metadata": {},
   "outputs": [],
   "source": [
    "import matplotlib.pyplot as plt\n",
    "from sklearn.preprocessing import StandardScaler\n",
    "\n",
    "scaler = StandardScaler()\n",
    "X_Scaled = scaler.fit_transform(X_dum[['Año','Mes','Cost','Bench Gral CPC','Bench Search CPC','Bench GralSch CPL', 'Bench Search CPL','Bench GralSch CTR', 'Bench Search CTR', 'Bench GralSch CR','Bench Search AvgCR', 'Bench GralFB CPC', 'Bench FB CPC',\n",
    "                            'Bench GralFB CPAction', 'Bench FB CPAction', 'Bench GralFB CTR', 'Bench FB CTR', 'Bench GralFB CR', 'Bench FB AvgCR', 'Bench GralYT CPV', 'Bench YT CPV', 'Bench GralYT CTR', 'Bench YT CTR','Bench GralYT VR', 'Bench FB AvgVR']])\n",
    "\n",
    "pca = PCA(n_components=2)  # Aquí estamos conservando solo una componente principal\n",
    "X_pca = pca.fit_transform(X_Scaled)\n",
    "X_pca = pd.DataFrame(X_pca)\n",
    "\n",
    "X_dum['X_pca_0'] = X_pca[0]\n",
    "X_dum['X_pca_1'] = X_pca[1]\n",
    "X['X_pca_0'] = X_pca[0]\n",
    "X['X_pca_1'] = X_pca[1]"
   ]
  },
  {
   "cell_type": "code",
   "execution_count": 8,
   "id": "8bc96025-97e1-496c-94c9-531dc64a2523",
   "metadata": {},
   "outputs": [
    {
     "data": {
      "text/html": [
       "<div>\n",
       "<style scoped>\n",
       "    .dataframe tbody tr th:only-of-type {\n",
       "        vertical-align: middle;\n",
       "    }\n",
       "\n",
       "    .dataframe tbody tr th {\n",
       "        vertical-align: top;\n",
       "    }\n",
       "\n",
       "    .dataframe thead th {\n",
       "        text-align: right;\n",
       "    }\n",
       "</style>\n",
       "<table border=\"1\" class=\"dataframe\">\n",
       "  <thead>\n",
       "    <tr style=\"text-align: right;\">\n",
       "      <th></th>\n",
       "      <th>0</th>\n",
       "      <th>1</th>\n",
       "    </tr>\n",
       "  </thead>\n",
       "  <tbody>\n",
       "    <tr>\n",
       "      <th>0</th>\n",
       "      <td>-1.913698</td>\n",
       "      <td>-1.030905</td>\n",
       "    </tr>\n",
       "    <tr>\n",
       "      <th>1</th>\n",
       "      <td>-1.908563</td>\n",
       "      <td>-0.992100</td>\n",
       "    </tr>\n",
       "    <tr>\n",
       "      <th>2</th>\n",
       "      <td>-1.909143</td>\n",
       "      <td>-0.996482</td>\n",
       "    </tr>\n",
       "    <tr>\n",
       "      <th>3</th>\n",
       "      <td>-1.904896</td>\n",
       "      <td>-0.964386</td>\n",
       "    </tr>\n",
       "    <tr>\n",
       "      <th>4</th>\n",
       "      <td>-1.910459</td>\n",
       "      <td>-1.006433</td>\n",
       "    </tr>\n",
       "    <tr>\n",
       "      <th>...</th>\n",
       "      <td>...</td>\n",
       "      <td>...</td>\n",
       "    </tr>\n",
       "    <tr>\n",
       "      <th>1577</th>\n",
       "      <td>4.340344</td>\n",
       "      <td>2.435578</td>\n",
       "    </tr>\n",
       "    <tr>\n",
       "      <th>1578</th>\n",
       "      <td>4.348798</td>\n",
       "      <td>2.499472</td>\n",
       "    </tr>\n",
       "    <tr>\n",
       "      <th>1579</th>\n",
       "      <td>4.345298</td>\n",
       "      <td>2.473019</td>\n",
       "    </tr>\n",
       "    <tr>\n",
       "      <th>1580</th>\n",
       "      <td>4.337612</td>\n",
       "      <td>2.414934</td>\n",
       "    </tr>\n",
       "    <tr>\n",
       "      <th>1581</th>\n",
       "      <td>4.339514</td>\n",
       "      <td>2.429303</td>\n",
       "    </tr>\n",
       "  </tbody>\n",
       "</table>\n",
       "<p>1582 rows × 2 columns</p>\n",
       "</div>"
      ],
      "text/plain": [
       "             0         1\n",
       "0    -1.913698 -1.030905\n",
       "1    -1.908563 -0.992100\n",
       "2    -1.909143 -0.996482\n",
       "3    -1.904896 -0.964386\n",
       "4    -1.910459 -1.006433\n",
       "...        ...       ...\n",
       "1577  4.340344  2.435578\n",
       "1578  4.348798  2.499472\n",
       "1579  4.345298  2.473019\n",
       "1580  4.337612  2.414934\n",
       "1581  4.339514  2.429303\n",
       "\n",
       "[1582 rows x 2 columns]"
      ]
     },
     "execution_count": 8,
     "metadata": {},
     "output_type": "execute_result"
    }
   ],
   "source": [
    "X_pca"
   ]
  },
  {
   "cell_type": "code",
   "execution_count": null,
   "id": "a9fb6d86-98a4-4f6d-8263-ed6dec519756",
   "metadata": {},
   "outputs": [],
   "source": []
  },
  {
   "cell_type": "code",
   "execution_count": 9,
   "id": "94171f94-1f67-4168-a7c6-474390be7688",
   "metadata": {},
   "outputs": [],
   "source": [
    "# Separo en conjuntos de Train y de Test\n",
    "#X_train, X_test, y_train, y_test = train_test_split(X_dum, y, test_size=0.2, random_state=0)\n",
    "X_train = X_dum\n",
    "y_train = y"
   ]
  },
  {
   "cell_type": "markdown",
   "id": "8cf812d4-dc43-461d-8f9b-a19ba90ec99b",
   "metadata": {},
   "source": [
    "## RandomForest\n",
    "\n",
    "RMSE = 0.26"
   ]
  },
  {
   "cell_type": "code",
   "execution_count": 10,
   "id": "bd89a436-c90a-4cee-accb-61a3dd0fe991",
   "metadata": {},
   "outputs": [],
   "source": [
    "from sklearn.ensemble import RandomForestRegressor\n",
    "from sklearn.model_selection import cross_val_score\n",
    "from sklearn.metrics import mean_squared_error, make_scorer\n",
    "from sklearn.model_selection import train_test_split, GridSearchCV"
   ]
  },
  {
   "cell_type": "code",
   "execution_count": 11,
   "id": "9c82d1a8-db76-4e27-a171-39511aee2501",
   "metadata": {},
   "outputs": [],
   "source": [
    "rf = RandomForestRegressor(n_estimators=50, max_depth=14, min_samples_split=4, min_samples_leaf=2)"
   ]
  },
  {
   "cell_type": "code",
   "execution_count": 12,
   "id": "9b02dbd5-025c-4f8b-a4c8-07e3c576ed89",
   "metadata": {},
   "outputs": [
    {
     "data": {
      "text/html": [
       "<style>#sk-container-id-1 {color: black;}#sk-container-id-1 pre{padding: 0;}#sk-container-id-1 div.sk-toggleable {background-color: white;}#sk-container-id-1 label.sk-toggleable__label {cursor: pointer;display: block;width: 100%;margin-bottom: 0;padding: 0.3em;box-sizing: border-box;text-align: center;}#sk-container-id-1 label.sk-toggleable__label-arrow:before {content: \"▸\";float: left;margin-right: 0.25em;color: #696969;}#sk-container-id-1 label.sk-toggleable__label-arrow:hover:before {color: black;}#sk-container-id-1 div.sk-estimator:hover label.sk-toggleable__label-arrow:before {color: black;}#sk-container-id-1 div.sk-toggleable__content {max-height: 0;max-width: 0;overflow: hidden;text-align: left;background-color: #f0f8ff;}#sk-container-id-1 div.sk-toggleable__content pre {margin: 0.2em;color: black;border-radius: 0.25em;background-color: #f0f8ff;}#sk-container-id-1 input.sk-toggleable__control:checked~div.sk-toggleable__content {max-height: 200px;max-width: 100%;overflow: auto;}#sk-container-id-1 input.sk-toggleable__control:checked~label.sk-toggleable__label-arrow:before {content: \"▾\";}#sk-container-id-1 div.sk-estimator input.sk-toggleable__control:checked~label.sk-toggleable__label {background-color: #d4ebff;}#sk-container-id-1 div.sk-label input.sk-toggleable__control:checked~label.sk-toggleable__label {background-color: #d4ebff;}#sk-container-id-1 input.sk-hidden--visually {border: 0;clip: rect(1px 1px 1px 1px);clip: rect(1px, 1px, 1px, 1px);height: 1px;margin: -1px;overflow: hidden;padding: 0;position: absolute;width: 1px;}#sk-container-id-1 div.sk-estimator {font-family: monospace;background-color: #f0f8ff;border: 1px dotted black;border-radius: 0.25em;box-sizing: border-box;margin-bottom: 0.5em;}#sk-container-id-1 div.sk-estimator:hover {background-color: #d4ebff;}#sk-container-id-1 div.sk-parallel-item::after {content: \"\";width: 100%;border-bottom: 1px solid gray;flex-grow: 1;}#sk-container-id-1 div.sk-label:hover label.sk-toggleable__label {background-color: #d4ebff;}#sk-container-id-1 div.sk-serial::before {content: \"\";position: absolute;border-left: 1px solid gray;box-sizing: border-box;top: 0;bottom: 0;left: 50%;z-index: 0;}#sk-container-id-1 div.sk-serial {display: flex;flex-direction: column;align-items: center;background-color: white;padding-right: 0.2em;padding-left: 0.2em;position: relative;}#sk-container-id-1 div.sk-item {position: relative;z-index: 1;}#sk-container-id-1 div.sk-parallel {display: flex;align-items: stretch;justify-content: center;background-color: white;position: relative;}#sk-container-id-1 div.sk-item::before, #sk-container-id-1 div.sk-parallel-item::before {content: \"\";position: absolute;border-left: 1px solid gray;box-sizing: border-box;top: 0;bottom: 0;left: 50%;z-index: -1;}#sk-container-id-1 div.sk-parallel-item {display: flex;flex-direction: column;z-index: 1;position: relative;background-color: white;}#sk-container-id-1 div.sk-parallel-item:first-child::after {align-self: flex-end;width: 50%;}#sk-container-id-1 div.sk-parallel-item:last-child::after {align-self: flex-start;width: 50%;}#sk-container-id-1 div.sk-parallel-item:only-child::after {width: 0;}#sk-container-id-1 div.sk-dashed-wrapped {border: 1px dashed gray;margin: 0 0.4em 0.5em 0.4em;box-sizing: border-box;padding-bottom: 0.4em;background-color: white;}#sk-container-id-1 div.sk-label label {font-family: monospace;font-weight: bold;display: inline-block;line-height: 1.2em;}#sk-container-id-1 div.sk-label-container {text-align: center;}#sk-container-id-1 div.sk-container {/* jupyter's `normalize.less` sets `[hidden] { display: none; }` but bootstrap.min.css set `[hidden] { display: none !important; }` so we also need the `!important` here to be able to override the default hidden behavior on the sphinx rendered scikit-learn.org. See: https://github.com/scikit-learn/scikit-learn/issues/21755 */display: inline-block !important;position: relative;}#sk-container-id-1 div.sk-text-repr-fallback {display: none;}</style><div id=\"sk-container-id-1\" class=\"sk-top-container\"><div class=\"sk-text-repr-fallback\"><pre>RandomForestRegressor(max_depth=14, min_samples_leaf=2, min_samples_split=4,\n",
       "                      n_estimators=50)</pre><b>In a Jupyter environment, please rerun this cell to show the HTML representation or trust the notebook. <br />On GitHub, the HTML representation is unable to render, please try loading this page with nbviewer.org.</b></div><div class=\"sk-container\" hidden><div class=\"sk-item\"><div class=\"sk-estimator sk-toggleable\"><input class=\"sk-toggleable__control sk-hidden--visually\" id=\"sk-estimator-id-1\" type=\"checkbox\" checked><label for=\"sk-estimator-id-1\" class=\"sk-toggleable__label sk-toggleable__label-arrow\">RandomForestRegressor</label><div class=\"sk-toggleable__content\"><pre>RandomForestRegressor(max_depth=14, min_samples_leaf=2, min_samples_split=4,\n",
       "                      n_estimators=50)</pre></div></div></div></div></div>"
      ],
      "text/plain": [
       "RandomForestRegressor(max_depth=14, min_samples_leaf=2, min_samples_split=4,\n",
       "                      n_estimators=50)"
      ]
     },
     "execution_count": 12,
     "metadata": {},
     "output_type": "execute_result"
    }
   ],
   "source": [
    "rf.fit(X_train.drop('index',axis=1), y_train)"
   ]
  },
  {
   "cell_type": "markdown",
   "id": "823d9160-12c9-4846-ae79-e72d045f3792",
   "metadata": {
    "jp-MarkdownHeadingCollapsed": true
   },
   "source": [
    "#### VC"
   ]
  },
  {
   "cell_type": "code",
   "execution_count": 15,
   "id": "582fd4e0-f943-4041-9766-c195b4e3460b",
   "metadata": {},
   "outputs": [],
   "source": [
    "from sklearn.model_selection import KFold"
   ]
  },
  {
   "cell_type": "code",
   "execution_count": 16,
   "id": "e2a581bb-c569-4ebe-9bbb-3f1f1dfccedb",
   "metadata": {},
   "outputs": [],
   "source": [
    "kf_rf = KFold(n_splits=5, shuffle=True, random_state=42)\n",
    "X_train_rf_prueba = X_train.copy()\n",
    "X_train_rf_prueba = X_train_rf_prueba.reset_index()\n",
    "y_train_rf_prueba = y_train.copy()\n",
    "y_train_rf_prueba = y_train_rf_prueba.reset_index()\n",
    "\n",
    "\n",
    "X_train_rf_prueba = X_train_rf_prueba.drop('index', axis=1)\n",
    "y_train_rf_prueba = y_train_rf_prueba.drop('index', axis=1)"
   ]
  },
  {
   "cell_type": "code",
   "execution_count": null,
   "id": "913aba9b-7652-4fa4-9b7c-8250c26898f6",
   "metadata": {},
   "outputs": [],
   "source": []
  },
  {
   "cell_type": "code",
   "execution_count": 17,
   "id": "3f45f2e3-d7ed-4c6d-9b9a-dd5368af8bd8",
   "metadata": {},
   "outputs": [
    {
     "data": {
      "text/html": [
       "<div>\n",
       "<style scoped>\n",
       "    .dataframe tbody tr th:only-of-type {\n",
       "        vertical-align: middle;\n",
       "    }\n",
       "\n",
       "    .dataframe tbody tr th {\n",
       "        vertical-align: top;\n",
       "    }\n",
       "\n",
       "    .dataframe thead th {\n",
       "        text-align: right;\n",
       "    }\n",
       "</style>\n",
       "<table border=\"1\" class=\"dataframe\">\n",
       "  <thead>\n",
       "    <tr style=\"text-align: right;\">\n",
       "      <th></th>\n",
       "      <th>CPV</th>\n",
       "    </tr>\n",
       "  </thead>\n",
       "  <tbody>\n",
       "    <tr>\n",
       "      <th>0</th>\n",
       "      <td>3.394762</td>\n",
       "    </tr>\n",
       "    <tr>\n",
       "      <th>1</th>\n",
       "      <td>0.060510</td>\n",
       "    </tr>\n",
       "    <tr>\n",
       "      <th>2</th>\n",
       "      <td>0.022742</td>\n",
       "    </tr>\n",
       "    <tr>\n",
       "      <th>3</th>\n",
       "      <td>0.009502</td>\n",
       "    </tr>\n",
       "    <tr>\n",
       "      <th>4</th>\n",
       "      <td>0.004582</td>\n",
       "    </tr>\n",
       "    <tr>\n",
       "      <th>...</th>\n",
       "      <td>...</td>\n",
       "    </tr>\n",
       "    <tr>\n",
       "      <th>1577</th>\n",
       "      <td>0.069231</td>\n",
       "    </tr>\n",
       "    <tr>\n",
       "      <th>1578</th>\n",
       "      <td>0.445683</td>\n",
       "    </tr>\n",
       "    <tr>\n",
       "      <th>1579</th>\n",
       "      <td>0.084549</td>\n",
       "    </tr>\n",
       "    <tr>\n",
       "      <th>1580</th>\n",
       "      <td>0.184157</td>\n",
       "    </tr>\n",
       "    <tr>\n",
       "      <th>1581</th>\n",
       "      <td>0.149431</td>\n",
       "    </tr>\n",
       "  </tbody>\n",
       "</table>\n",
       "<p>1582 rows × 1 columns</p>\n",
       "</div>"
      ],
      "text/plain": [
       "           CPV\n",
       "0     3.394762\n",
       "1     0.060510\n",
       "2     0.022742\n",
       "3     0.009502\n",
       "4     0.004582\n",
       "...        ...\n",
       "1577  0.069231\n",
       "1578  0.445683\n",
       "1579  0.084549\n",
       "1580  0.184157\n",
       "1581  0.149431\n",
       "\n",
       "[1582 rows x 1 columns]"
      ]
     },
     "execution_count": 17,
     "metadata": {},
     "output_type": "execute_result"
    }
   ],
   "source": [
    "y_train_rf_prueba"
   ]
  },
  {
   "cell_type": "code",
   "execution_count": 18,
   "id": "cf4791d9-430a-425a-92ea-0b98d9cf1e64",
   "metadata": {},
   "outputs": [
    {
     "name": "stdout",
     "output_type": "stream",
     "text": [
      "15\n"
     ]
    },
    {
     "name": "stderr",
     "output_type": "stream",
     "text": [
      "C:\\Users\\fedem\\Mis_Documentos\\iMetriq\\env\\Lib\\site-packages\\sklearn\\base.py:1152: DataConversionWarning: A column-vector y was passed when a 1d array was expected. Please change the shape of y to (n_samples,), for example using ravel().\n",
      "  return fit_method(estimator, *args, **kwargs)\n",
      "C:\\Users\\fedem\\Mis_Documentos\\iMetriq\\env\\Lib\\site-packages\\sklearn\\base.py:1152: DataConversionWarning: A column-vector y was passed when a 1d array was expected. Please change the shape of y to (n_samples,), for example using ravel().\n",
      "  return fit_method(estimator, *args, **kwargs)\n",
      "C:\\Users\\fedem\\Mis_Documentos\\iMetriq\\env\\Lib\\site-packages\\sklearn\\base.py:1152: DataConversionWarning: A column-vector y was passed when a 1d array was expected. Please change the shape of y to (n_samples,), for example using ravel().\n",
      "  return fit_method(estimator, *args, **kwargs)\n",
      "C:\\Users\\fedem\\Mis_Documentos\\iMetriq\\env\\Lib\\site-packages\\sklearn\\base.py:1152: DataConversionWarning: A column-vector y was passed when a 1d array was expected. Please change the shape of y to (n_samples,), for example using ravel().\n",
      "  return fit_method(estimator, *args, **kwargs)\n",
      "C:\\Users\\fedem\\Mis_Documentos\\iMetriq\\env\\Lib\\site-packages\\sklearn\\base.py:1152: DataConversionWarning: A column-vector y was passed when a 1d array was expected. Please change the shape of y to (n_samples,), for example using ravel().\n",
      "  return fit_method(estimator, *args, **kwargs)\n"
     ]
    },
    {
     "name": "stdout",
     "output_type": "stream",
     "text": [
      "20\n"
     ]
    },
    {
     "name": "stderr",
     "output_type": "stream",
     "text": [
      "C:\\Users\\fedem\\Mis_Documentos\\iMetriq\\env\\Lib\\site-packages\\sklearn\\base.py:1152: DataConversionWarning: A column-vector y was passed when a 1d array was expected. Please change the shape of y to (n_samples,), for example using ravel().\n",
      "  return fit_method(estimator, *args, **kwargs)\n",
      "C:\\Users\\fedem\\Mis_Documentos\\iMetriq\\env\\Lib\\site-packages\\sklearn\\base.py:1152: DataConversionWarning: A column-vector y was passed when a 1d array was expected. Please change the shape of y to (n_samples,), for example using ravel().\n",
      "  return fit_method(estimator, *args, **kwargs)\n",
      "C:\\Users\\fedem\\Mis_Documentos\\iMetriq\\env\\Lib\\site-packages\\sklearn\\base.py:1152: DataConversionWarning: A column-vector y was passed when a 1d array was expected. Please change the shape of y to (n_samples,), for example using ravel().\n",
      "  return fit_method(estimator, *args, **kwargs)\n",
      "C:\\Users\\fedem\\Mis_Documentos\\iMetriq\\env\\Lib\\site-packages\\sklearn\\base.py:1152: DataConversionWarning: A column-vector y was passed when a 1d array was expected. Please change the shape of y to (n_samples,), for example using ravel().\n",
      "  return fit_method(estimator, *args, **kwargs)\n",
      "C:\\Users\\fedem\\Mis_Documentos\\iMetriq\\env\\Lib\\site-packages\\sklearn\\base.py:1152: DataConversionWarning: A column-vector y was passed when a 1d array was expected. Please change the shape of y to (n_samples,), for example using ravel().\n",
      "  return fit_method(estimator, *args, **kwargs)\n"
     ]
    },
    {
     "name": "stdout",
     "output_type": "stream",
     "text": [
      "30\n"
     ]
    },
    {
     "name": "stderr",
     "output_type": "stream",
     "text": [
      "C:\\Users\\fedem\\Mis_Documentos\\iMetriq\\env\\Lib\\site-packages\\sklearn\\base.py:1152: DataConversionWarning: A column-vector y was passed when a 1d array was expected. Please change the shape of y to (n_samples,), for example using ravel().\n",
      "  return fit_method(estimator, *args, **kwargs)\n",
      "C:\\Users\\fedem\\Mis_Documentos\\iMetriq\\env\\Lib\\site-packages\\sklearn\\base.py:1152: DataConversionWarning: A column-vector y was passed when a 1d array was expected. Please change the shape of y to (n_samples,), for example using ravel().\n",
      "  return fit_method(estimator, *args, **kwargs)\n",
      "C:\\Users\\fedem\\Mis_Documentos\\iMetriq\\env\\Lib\\site-packages\\sklearn\\base.py:1152: DataConversionWarning: A column-vector y was passed when a 1d array was expected. Please change the shape of y to (n_samples,), for example using ravel().\n",
      "  return fit_method(estimator, *args, **kwargs)\n",
      "C:\\Users\\fedem\\Mis_Documentos\\iMetriq\\env\\Lib\\site-packages\\sklearn\\base.py:1152: DataConversionWarning: A column-vector y was passed when a 1d array was expected. Please change the shape of y to (n_samples,), for example using ravel().\n",
      "  return fit_method(estimator, *args, **kwargs)\n",
      "C:\\Users\\fedem\\Mis_Documentos\\iMetriq\\env\\Lib\\site-packages\\sklearn\\base.py:1152: DataConversionWarning: A column-vector y was passed when a 1d array was expected. Please change the shape of y to (n_samples,), for example using ravel().\n",
      "  return fit_method(estimator, *args, **kwargs)\n"
     ]
    },
    {
     "name": "stdout",
     "output_type": "stream",
     "text": [
      "40\n"
     ]
    },
    {
     "name": "stderr",
     "output_type": "stream",
     "text": [
      "C:\\Users\\fedem\\Mis_Documentos\\iMetriq\\env\\Lib\\site-packages\\sklearn\\base.py:1152: DataConversionWarning: A column-vector y was passed when a 1d array was expected. Please change the shape of y to (n_samples,), for example using ravel().\n",
      "  return fit_method(estimator, *args, **kwargs)\n",
      "C:\\Users\\fedem\\Mis_Documentos\\iMetriq\\env\\Lib\\site-packages\\sklearn\\base.py:1152: DataConversionWarning: A column-vector y was passed when a 1d array was expected. Please change the shape of y to (n_samples,), for example using ravel().\n",
      "  return fit_method(estimator, *args, **kwargs)\n",
      "C:\\Users\\fedem\\Mis_Documentos\\iMetriq\\env\\Lib\\site-packages\\sklearn\\base.py:1152: DataConversionWarning: A column-vector y was passed when a 1d array was expected. Please change the shape of y to (n_samples,), for example using ravel().\n",
      "  return fit_method(estimator, *args, **kwargs)\n",
      "C:\\Users\\fedem\\Mis_Documentos\\iMetriq\\env\\Lib\\site-packages\\sklearn\\base.py:1152: DataConversionWarning: A column-vector y was passed when a 1d array was expected. Please change the shape of y to (n_samples,), for example using ravel().\n",
      "  return fit_method(estimator, *args, **kwargs)\n",
      "C:\\Users\\fedem\\Mis_Documentos\\iMetriq\\env\\Lib\\site-packages\\sklearn\\base.py:1152: DataConversionWarning: A column-vector y was passed when a 1d array was expected. Please change the shape of y to (n_samples,), for example using ravel().\n",
      "  return fit_method(estimator, *args, **kwargs)\n"
     ]
    },
    {
     "name": "stdout",
     "output_type": "stream",
     "text": [
      "50\n"
     ]
    },
    {
     "name": "stderr",
     "output_type": "stream",
     "text": [
      "C:\\Users\\fedem\\Mis_Documentos\\iMetriq\\env\\Lib\\site-packages\\sklearn\\base.py:1152: DataConversionWarning: A column-vector y was passed when a 1d array was expected. Please change the shape of y to (n_samples,), for example using ravel().\n",
      "  return fit_method(estimator, *args, **kwargs)\n",
      "C:\\Users\\fedem\\Mis_Documentos\\iMetriq\\env\\Lib\\site-packages\\sklearn\\base.py:1152: DataConversionWarning: A column-vector y was passed when a 1d array was expected. Please change the shape of y to (n_samples,), for example using ravel().\n",
      "  return fit_method(estimator, *args, **kwargs)\n",
      "C:\\Users\\fedem\\Mis_Documentos\\iMetriq\\env\\Lib\\site-packages\\sklearn\\base.py:1152: DataConversionWarning: A column-vector y was passed when a 1d array was expected. Please change the shape of y to (n_samples,), for example using ravel().\n",
      "  return fit_method(estimator, *args, **kwargs)\n",
      "C:\\Users\\fedem\\Mis_Documentos\\iMetriq\\env\\Lib\\site-packages\\sklearn\\base.py:1152: DataConversionWarning: A column-vector y was passed when a 1d array was expected. Please change the shape of y to (n_samples,), for example using ravel().\n",
      "  return fit_method(estimator, *args, **kwargs)\n",
      "C:\\Users\\fedem\\Mis_Documentos\\iMetriq\\env\\Lib\\site-packages\\sklearn\\base.py:1152: DataConversionWarning: A column-vector y was passed when a 1d array was expected. Please change the shape of y to (n_samples,), for example using ravel().\n",
      "  return fit_method(estimator, *args, **kwargs)\n"
     ]
    },
    {
     "name": "stdout",
     "output_type": "stream",
     "text": [
      "70\n"
     ]
    },
    {
     "name": "stderr",
     "output_type": "stream",
     "text": [
      "C:\\Users\\fedem\\Mis_Documentos\\iMetriq\\env\\Lib\\site-packages\\sklearn\\base.py:1152: DataConversionWarning: A column-vector y was passed when a 1d array was expected. Please change the shape of y to (n_samples,), for example using ravel().\n",
      "  return fit_method(estimator, *args, **kwargs)\n",
      "C:\\Users\\fedem\\Mis_Documentos\\iMetriq\\env\\Lib\\site-packages\\sklearn\\base.py:1152: DataConversionWarning: A column-vector y was passed when a 1d array was expected. Please change the shape of y to (n_samples,), for example using ravel().\n",
      "  return fit_method(estimator, *args, **kwargs)\n",
      "C:\\Users\\fedem\\Mis_Documentos\\iMetriq\\env\\Lib\\site-packages\\sklearn\\base.py:1152: DataConversionWarning: A column-vector y was passed when a 1d array was expected. Please change the shape of y to (n_samples,), for example using ravel().\n",
      "  return fit_method(estimator, *args, **kwargs)\n",
      "C:\\Users\\fedem\\Mis_Documentos\\iMetriq\\env\\Lib\\site-packages\\sklearn\\base.py:1152: DataConversionWarning: A column-vector y was passed when a 1d array was expected. Please change the shape of y to (n_samples,), for example using ravel().\n",
      "  return fit_method(estimator, *args, **kwargs)\n",
      "C:\\Users\\fedem\\Mis_Documentos\\iMetriq\\env\\Lib\\site-packages\\sklearn\\base.py:1152: DataConversionWarning: A column-vector y was passed when a 1d array was expected. Please change the shape of y to (n_samples,), for example using ravel().\n",
      "  return fit_method(estimator, *args, **kwargs)\n"
     ]
    },
    {
     "name": "stdout",
     "output_type": "stream",
     "text": [
      "80\n"
     ]
    },
    {
     "name": "stderr",
     "output_type": "stream",
     "text": [
      "C:\\Users\\fedem\\Mis_Documentos\\iMetriq\\env\\Lib\\site-packages\\sklearn\\base.py:1152: DataConversionWarning: A column-vector y was passed when a 1d array was expected. Please change the shape of y to (n_samples,), for example using ravel().\n",
      "  return fit_method(estimator, *args, **kwargs)\n",
      "C:\\Users\\fedem\\Mis_Documentos\\iMetriq\\env\\Lib\\site-packages\\sklearn\\base.py:1152: DataConversionWarning: A column-vector y was passed when a 1d array was expected. Please change the shape of y to (n_samples,), for example using ravel().\n",
      "  return fit_method(estimator, *args, **kwargs)\n",
      "C:\\Users\\fedem\\Mis_Documentos\\iMetriq\\env\\Lib\\site-packages\\sklearn\\base.py:1152: DataConversionWarning: A column-vector y was passed when a 1d array was expected. Please change the shape of y to (n_samples,), for example using ravel().\n",
      "  return fit_method(estimator, *args, **kwargs)\n",
      "C:\\Users\\fedem\\Mis_Documentos\\iMetriq\\env\\Lib\\site-packages\\sklearn\\base.py:1152: DataConversionWarning: A column-vector y was passed when a 1d array was expected. Please change the shape of y to (n_samples,), for example using ravel().\n",
      "  return fit_method(estimator, *args, **kwargs)\n",
      "C:\\Users\\fedem\\Mis_Documentos\\iMetriq\\env\\Lib\\site-packages\\sklearn\\base.py:1152: DataConversionWarning: A column-vector y was passed when a 1d array was expected. Please change the shape of y to (n_samples,), for example using ravel().\n",
      "  return fit_method(estimator, *args, **kwargs)\n"
     ]
    },
    {
     "name": "stdout",
     "output_type": "stream",
     "text": [
      "100\n"
     ]
    },
    {
     "name": "stderr",
     "output_type": "stream",
     "text": [
      "C:\\Users\\fedem\\Mis_Documentos\\iMetriq\\env\\Lib\\site-packages\\sklearn\\base.py:1152: DataConversionWarning: A column-vector y was passed when a 1d array was expected. Please change the shape of y to (n_samples,), for example using ravel().\n",
      "  return fit_method(estimator, *args, **kwargs)\n",
      "C:\\Users\\fedem\\Mis_Documentos\\iMetriq\\env\\Lib\\site-packages\\sklearn\\base.py:1152: DataConversionWarning: A column-vector y was passed when a 1d array was expected. Please change the shape of y to (n_samples,), for example using ravel().\n",
      "  return fit_method(estimator, *args, **kwargs)\n",
      "C:\\Users\\fedem\\Mis_Documentos\\iMetriq\\env\\Lib\\site-packages\\sklearn\\base.py:1152: DataConversionWarning: A column-vector y was passed when a 1d array was expected. Please change the shape of y to (n_samples,), for example using ravel().\n",
      "  return fit_method(estimator, *args, **kwargs)\n",
      "C:\\Users\\fedem\\Mis_Documentos\\iMetriq\\env\\Lib\\site-packages\\sklearn\\base.py:1152: DataConversionWarning: A column-vector y was passed when a 1d array was expected. Please change the shape of y to (n_samples,), for example using ravel().\n",
      "  return fit_method(estimator, *args, **kwargs)\n",
      "C:\\Users\\fedem\\Mis_Documentos\\iMetriq\\env\\Lib\\site-packages\\sklearn\\base.py:1152: DataConversionWarning: A column-vector y was passed when a 1d array was expected. Please change the shape of y to (n_samples,), for example using ravel().\n",
      "  return fit_method(estimator, *args, **kwargs)\n"
     ]
    },
    {
     "name": "stdout",
     "output_type": "stream",
     "text": [
      "105.2760199321187\n",
      "26.05564912069601\n"
     ]
    }
   ],
   "source": [
    "mse_test_list_total = dict()\n",
    "mse_train_list_total = dict()\n",
    "for i in [15,20,30,40,50,70,80,100]:\n",
    "    print(i)\n",
    "    mse_test_list = []\n",
    "    mse_train_list = []\n",
    "    for train_index, test_index in kf_rf.split(X_train_rf_prueba):\n",
    "        X_train_cv, X_test_cv = X_train_rf_prueba.iloc[train_index], X_train_rf_prueba.iloc[test_index]\n",
    "        y_train_cv, y_test_cv = y_train_rf_prueba.iloc[train_index], y_train_rf_prueba.iloc[test_index]\n",
    "        \n",
    "        # Inicializar el modelo de clasificación\n",
    "        rf_cv = RandomForestRegressor(n_estimators=i, max_depth=14, min_samples_split=4, min_samples_leaf=2)\n",
    "    \n",
    "        # Ajustar el modelo con los datos de entrenamiento\n",
    "        rf_cv.fit(X_train_cv, y_train_cv)\n",
    "    \n",
    "        # Hacer predicciones en los datos de prueba\n",
    "        y_pred_test_cv = rf_cv.predict(X_test_cv)\n",
    "        y_pred_train_cv = rf_cv.predict(X_train_cv)\n",
    "    \n",
    "        # Calcular la precisión y agregarla a la lista de puntuaciones\n",
    "        mse_test = mean_squared_error(y_test_cv, y_pred_test_cv)\n",
    "        mse_train = mean_squared_error(y_train_cv, y_pred_train_cv)\n",
    "        #print(y_test_cv)\n",
    "        #print(y_pred_cv)\n",
    "        mse_test_list.append(mse_test)\n",
    "        mse_train_list.append(mse_train)\n",
    "        \n",
    "    mse_cv_test = np.mean(mse_test_list)\n",
    "    mse_test_list_total[i] = mse_cv_test\n",
    "    mse_cv_train = np.mean(mse_train_list)\n",
    "    mse_train_list_total[i] = mse_cv_train\n",
    "print(mse_cv_test)\n",
    "print(mse_cv_train)\n",
    "\n",
    "df_curve = pd.DataFrame(list(mse_test_list_total.items()), columns=['Index', 'ErrorTest'])\n",
    "df_curve_2 = pd.DataFrame(list(mse_train_list_total.items()), columns=['Index', 'ErrorTrain'])\n",
    "df_curve = pd.merge(df_curve,df_curve_2,on='Index',how='left')\n",
    "#df_curve = pd.DataFrame(mse_test_list_total)"
   ]
  },
  {
   "cell_type": "code",
   "execution_count": 19,
   "id": "24e9d3b4-78c6-4ce5-96f9-58c794bbfb75",
   "metadata": {},
   "outputs": [
    {
     "data": {
      "text/html": [
       "\n",
       "<style>\n",
       "  #altair-viz-07810d749acb4ce09b36b5774bec0680.vega-embed {\n",
       "    width: 100%;\n",
       "    display: flex;\n",
       "  }\n",
       "\n",
       "  #altair-viz-07810d749acb4ce09b36b5774bec0680.vega-embed details,\n",
       "  #altair-viz-07810d749acb4ce09b36b5774bec0680.vega-embed details summary {\n",
       "    position: relative;\n",
       "  }\n",
       "</style>\n",
       "<div id=\"altair-viz-07810d749acb4ce09b36b5774bec0680\"></div>\n",
       "<script type=\"text/javascript\">\n",
       "  var VEGA_DEBUG = (typeof VEGA_DEBUG == \"undefined\") ? {} : VEGA_DEBUG;\n",
       "  (function(spec, embedOpt){\n",
       "    let outputDiv = document.currentScript.previousElementSibling;\n",
       "    if (outputDiv.id !== \"altair-viz-07810d749acb4ce09b36b5774bec0680\") {\n",
       "      outputDiv = document.getElementById(\"altair-viz-07810d749acb4ce09b36b5774bec0680\");\n",
       "    }\n",
       "    const paths = {\n",
       "      \"vega\": \"https://cdn.jsdelivr.net/npm/vega@5?noext\",\n",
       "      \"vega-lib\": \"https://cdn.jsdelivr.net/npm/vega-lib?noext\",\n",
       "      \"vega-lite\": \"https://cdn.jsdelivr.net/npm/vega-lite@5.14.1?noext\",\n",
       "      \"vega-embed\": \"https://cdn.jsdelivr.net/npm/vega-embed@6?noext\",\n",
       "    };\n",
       "\n",
       "    function maybeLoadScript(lib, version) {\n",
       "      var key = `${lib.replace(\"-\", \"\")}_version`;\n",
       "      return (VEGA_DEBUG[key] == version) ?\n",
       "        Promise.resolve(paths[lib]) :\n",
       "        new Promise(function(resolve, reject) {\n",
       "          var s = document.createElement('script');\n",
       "          document.getElementsByTagName(\"head\")[0].appendChild(s);\n",
       "          s.async = true;\n",
       "          s.onload = () => {\n",
       "            VEGA_DEBUG[key] = version;\n",
       "            return resolve(paths[lib]);\n",
       "          };\n",
       "          s.onerror = () => reject(`Error loading script: ${paths[lib]}`);\n",
       "          s.src = paths[lib];\n",
       "        });\n",
       "    }\n",
       "\n",
       "    function showError(err) {\n",
       "      outputDiv.innerHTML = `<div class=\"error\" style=\"color:red;\">${err}</div>`;\n",
       "      throw err;\n",
       "    }\n",
       "\n",
       "    function displayChart(vegaEmbed) {\n",
       "      vegaEmbed(outputDiv, spec, embedOpt)\n",
       "        .catch(err => showError(`Javascript Error: ${err.message}<br>This usually means there's a typo in your chart specification. See the javascript console for the full traceback.`));\n",
       "    }\n",
       "\n",
       "    if(typeof define === \"function\" && define.amd) {\n",
       "      requirejs.config({paths});\n",
       "      require([\"vega-embed\"], displayChart, err => showError(`Error loading script: ${err.message}`));\n",
       "    } else {\n",
       "      maybeLoadScript(\"vega\", \"5\")\n",
       "        .then(() => maybeLoadScript(\"vega-lite\", \"5.14.1\"))\n",
       "        .then(() => maybeLoadScript(\"vega-embed\", \"6\"))\n",
       "        .catch(showError)\n",
       "        .then(() => displayChart(vegaEmbed));\n",
       "    }\n",
       "  })({\"config\": {\"view\": {\"continuousWidth\": 300, \"continuousHeight\": 300}}, \"data\": {\"name\": \"data-9b9fc164877fb967ddd77c71fb9c4196\"}, \"mark\": {\"type\": \"line\", \"point\": true}, \"encoding\": {\"color\": {\"field\": \"variable\", \"type\": \"nominal\"}, \"x\": {\"field\": \"Index\", \"type\": \"quantitative\"}, \"y\": {\"field\": \"value\", \"type\": \"quantitative\"}}, \"height\": 400, \"title\": \"Gr\\u00e1fico de L\\u00edneas para Columnas A y B\", \"width\": 600, \"$schema\": \"https://vega.github.io/schema/vega-lite/v5.14.1.json\", \"datasets\": {\"data-9b9fc164877fb967ddd77c71fb9c4196\": [{\"Index\": 15, \"variable\": \"ErrorTest\", \"value\": 103.0558657784386}, {\"Index\": 20, \"variable\": \"ErrorTest\", \"value\": 112.59763900643202}, {\"Index\": 30, \"variable\": \"ErrorTest\", \"value\": 108.88977176157918}, {\"Index\": 40, \"variable\": \"ErrorTest\", \"value\": 105.58491511035872}, {\"Index\": 50, \"variable\": \"ErrorTest\", \"value\": 102.48319671245204}, {\"Index\": 70, \"variable\": \"ErrorTest\", \"value\": 103.61741822154224}, {\"Index\": 80, \"variable\": \"ErrorTest\", \"value\": 105.02290817647494}, {\"Index\": 100, \"variable\": \"ErrorTest\", \"value\": 105.2760199321187}, {\"Index\": 15, \"variable\": \"ErrorTrain\", \"value\": 28.223836683152633}, {\"Index\": 20, \"variable\": \"ErrorTrain\", \"value\": 27.42141643350368}, {\"Index\": 30, \"variable\": \"ErrorTrain\", \"value\": 25.239278827358874}, {\"Index\": 40, \"variable\": \"ErrorTrain\", \"value\": 25.023282478126553}, {\"Index\": 50, \"variable\": \"ErrorTrain\", \"value\": 26.583812166575086}, {\"Index\": 70, \"variable\": \"ErrorTrain\", \"value\": 26.577629791385583}, {\"Index\": 80, \"variable\": \"ErrorTrain\", \"value\": 25.52007290410226}, {\"Index\": 100, \"variable\": \"ErrorTrain\", \"value\": 26.05564912069601}]}}, {\"mode\": \"vega-lite\"});\n",
       "</script>"
      ],
      "text/plain": [
       "alt.Chart(...)"
      ]
     },
     "execution_count": 19,
     "metadata": {},
     "output_type": "execute_result"
    }
   ],
   "source": [
    "# Supongamos que tienes un DataFrame llamado 'df' con columnas \"indice\", \"columna_A\" y \"columna_B\"\n",
    "\n",
    "# Convertir el DataFrame de pandas a un formato aceptado por Altair\n",
    "df_altair = pd.melt(df_curve, id_vars=['Index'], value_vars=['ErrorTest', 'ErrorTrain'])\n",
    "\n",
    "# Crear el gráfico de líneas divididas por color en Altair\n",
    "line_chart = alt.Chart(df_altair).mark_line(point=True).encode(\n",
    "    x='Index:Q',\n",
    "    y='value:Q',\n",
    "    color='variable:N'\n",
    ").properties(\n",
    "    width=600,\n",
    "    height=400,\n",
    "    title='Gráfico de Líneas para Columnas A y B'\n",
    ")\n",
    "\n",
    "# Mostrar el gráfico\n",
    "line_chart"
   ]
  },
  {
   "cell_type": "markdown",
   "id": "682416b1-a05b-4084-88ba-f9cbc2f463ac",
   "metadata": {},
   "source": [
    "## XGBoost\n",
    "\n",
    "RMSE_test = 0.24"
   ]
  },
  {
   "cell_type": "markdown",
   "id": "2160a07d-5017-470a-a1a0-4261c209303f",
   "metadata": {},
   "source": [
    "### Modelo"
   ]
  },
  {
   "cell_type": "code",
   "execution_count": 13,
   "id": "1dcbec20-0504-47f0-8d98-da7d9b9584b5",
   "metadata": {},
   "outputs": [],
   "source": [
    "import xgboost as xgb"
   ]
  },
  {
   "cell_type": "code",
   "execution_count": 14,
   "id": "ebb893c7-7ffb-4b33-ac0b-a57a1dda4d5d",
   "metadata": {},
   "outputs": [],
   "source": [
    "xgboost = xgb.XGBRegressor(learning_rate=0.01, max_depth=10, n_estimators=50)"
   ]
  },
  {
   "cell_type": "code",
   "execution_count": 15,
   "id": "f6984058-03db-406b-8e80-f1ea84d58c07",
   "metadata": {
    "scrolled": true
   },
   "outputs": [
    {
     "data": {
      "text/html": [
       "<style>#sk-container-id-2 {color: black;}#sk-container-id-2 pre{padding: 0;}#sk-container-id-2 div.sk-toggleable {background-color: white;}#sk-container-id-2 label.sk-toggleable__label {cursor: pointer;display: block;width: 100%;margin-bottom: 0;padding: 0.3em;box-sizing: border-box;text-align: center;}#sk-container-id-2 label.sk-toggleable__label-arrow:before {content: \"▸\";float: left;margin-right: 0.25em;color: #696969;}#sk-container-id-2 label.sk-toggleable__label-arrow:hover:before {color: black;}#sk-container-id-2 div.sk-estimator:hover label.sk-toggleable__label-arrow:before {color: black;}#sk-container-id-2 div.sk-toggleable__content {max-height: 0;max-width: 0;overflow: hidden;text-align: left;background-color: #f0f8ff;}#sk-container-id-2 div.sk-toggleable__content pre {margin: 0.2em;color: black;border-radius: 0.25em;background-color: #f0f8ff;}#sk-container-id-2 input.sk-toggleable__control:checked~div.sk-toggleable__content {max-height: 200px;max-width: 100%;overflow: auto;}#sk-container-id-2 input.sk-toggleable__control:checked~label.sk-toggleable__label-arrow:before {content: \"▾\";}#sk-container-id-2 div.sk-estimator input.sk-toggleable__control:checked~label.sk-toggleable__label {background-color: #d4ebff;}#sk-container-id-2 div.sk-label input.sk-toggleable__control:checked~label.sk-toggleable__label {background-color: #d4ebff;}#sk-container-id-2 input.sk-hidden--visually {border: 0;clip: rect(1px 1px 1px 1px);clip: rect(1px, 1px, 1px, 1px);height: 1px;margin: -1px;overflow: hidden;padding: 0;position: absolute;width: 1px;}#sk-container-id-2 div.sk-estimator {font-family: monospace;background-color: #f0f8ff;border: 1px dotted black;border-radius: 0.25em;box-sizing: border-box;margin-bottom: 0.5em;}#sk-container-id-2 div.sk-estimator:hover {background-color: #d4ebff;}#sk-container-id-2 div.sk-parallel-item::after {content: \"\";width: 100%;border-bottom: 1px solid gray;flex-grow: 1;}#sk-container-id-2 div.sk-label:hover label.sk-toggleable__label {background-color: #d4ebff;}#sk-container-id-2 div.sk-serial::before {content: \"\";position: absolute;border-left: 1px solid gray;box-sizing: border-box;top: 0;bottom: 0;left: 50%;z-index: 0;}#sk-container-id-2 div.sk-serial {display: flex;flex-direction: column;align-items: center;background-color: white;padding-right: 0.2em;padding-left: 0.2em;position: relative;}#sk-container-id-2 div.sk-item {position: relative;z-index: 1;}#sk-container-id-2 div.sk-parallel {display: flex;align-items: stretch;justify-content: center;background-color: white;position: relative;}#sk-container-id-2 div.sk-item::before, #sk-container-id-2 div.sk-parallel-item::before {content: \"\";position: absolute;border-left: 1px solid gray;box-sizing: border-box;top: 0;bottom: 0;left: 50%;z-index: -1;}#sk-container-id-2 div.sk-parallel-item {display: flex;flex-direction: column;z-index: 1;position: relative;background-color: white;}#sk-container-id-2 div.sk-parallel-item:first-child::after {align-self: flex-end;width: 50%;}#sk-container-id-2 div.sk-parallel-item:last-child::after {align-self: flex-start;width: 50%;}#sk-container-id-2 div.sk-parallel-item:only-child::after {width: 0;}#sk-container-id-2 div.sk-dashed-wrapped {border: 1px dashed gray;margin: 0 0.4em 0.5em 0.4em;box-sizing: border-box;padding-bottom: 0.4em;background-color: white;}#sk-container-id-2 div.sk-label label {font-family: monospace;font-weight: bold;display: inline-block;line-height: 1.2em;}#sk-container-id-2 div.sk-label-container {text-align: center;}#sk-container-id-2 div.sk-container {/* jupyter's `normalize.less` sets `[hidden] { display: none; }` but bootstrap.min.css set `[hidden] { display: none !important; }` so we also need the `!important` here to be able to override the default hidden behavior on the sphinx rendered scikit-learn.org. See: https://github.com/scikit-learn/scikit-learn/issues/21755 */display: inline-block !important;position: relative;}#sk-container-id-2 div.sk-text-repr-fallback {display: none;}</style><div id=\"sk-container-id-2\" class=\"sk-top-container\"><div class=\"sk-text-repr-fallback\"><pre>XGBRegressor(base_score=None, booster=None, callbacks=None,\n",
       "             colsample_bylevel=None, colsample_bynode=None,\n",
       "             colsample_bytree=None, device=None, early_stopping_rounds=None,\n",
       "             enable_categorical=False, eval_metric=None, feature_types=None,\n",
       "             gamma=None, grow_policy=None, importance_type=None,\n",
       "             interaction_constraints=None, learning_rate=0.01, max_bin=None,\n",
       "             max_cat_threshold=None, max_cat_to_onehot=None,\n",
       "             max_delta_step=None, max_depth=10, max_leaves=None,\n",
       "             min_child_weight=None, missing=nan, monotone_constraints=None,\n",
       "             multi_strategy=None, n_estimators=50, n_jobs=None,\n",
       "             num_parallel_tree=None, random_state=None, ...)</pre><b>In a Jupyter environment, please rerun this cell to show the HTML representation or trust the notebook. <br />On GitHub, the HTML representation is unable to render, please try loading this page with nbviewer.org.</b></div><div class=\"sk-container\" hidden><div class=\"sk-item\"><div class=\"sk-estimator sk-toggleable\"><input class=\"sk-toggleable__control sk-hidden--visually\" id=\"sk-estimator-id-2\" type=\"checkbox\" checked><label for=\"sk-estimator-id-2\" class=\"sk-toggleable__label sk-toggleable__label-arrow\">XGBRegressor</label><div class=\"sk-toggleable__content\"><pre>XGBRegressor(base_score=None, booster=None, callbacks=None,\n",
       "             colsample_bylevel=None, colsample_bynode=None,\n",
       "             colsample_bytree=None, device=None, early_stopping_rounds=None,\n",
       "             enable_categorical=False, eval_metric=None, feature_types=None,\n",
       "             gamma=None, grow_policy=None, importance_type=None,\n",
       "             interaction_constraints=None, learning_rate=0.01, max_bin=None,\n",
       "             max_cat_threshold=None, max_cat_to_onehot=None,\n",
       "             max_delta_step=None, max_depth=10, max_leaves=None,\n",
       "             min_child_weight=None, missing=nan, monotone_constraints=None,\n",
       "             multi_strategy=None, n_estimators=50, n_jobs=None,\n",
       "             num_parallel_tree=None, random_state=None, ...)</pre></div></div></div></div></div>"
      ],
      "text/plain": [
       "XGBRegressor(base_score=None, booster=None, callbacks=None,\n",
       "             colsample_bylevel=None, colsample_bynode=None,\n",
       "             colsample_bytree=None, device=None, early_stopping_rounds=None,\n",
       "             enable_categorical=False, eval_metric=None, feature_types=None,\n",
       "             gamma=None, grow_policy=None, importance_type=None,\n",
       "             interaction_constraints=None, learning_rate=0.01, max_bin=None,\n",
       "             max_cat_threshold=None, max_cat_to_onehot=None,\n",
       "             max_delta_step=None, max_depth=10, max_leaves=None,\n",
       "             min_child_weight=None, missing=nan, monotone_constraints=None,\n",
       "             multi_strategy=None, n_estimators=50, n_jobs=None,\n",
       "             num_parallel_tree=None, random_state=None, ...)"
      ]
     },
     "execution_count": 15,
     "metadata": {},
     "output_type": "execute_result"
    }
   ],
   "source": [
    "#xgboost.fit(X_train.drop('index',axis=1), y_train)\n",
    "xgboost.fit(X_train.drop('index',axis=1), y_train)"
   ]
  },
  {
   "cell_type": "markdown",
   "id": "493c445e-13cb-47b8-aac1-d382649964c6",
   "metadata": {
    "jp-MarkdownHeadingCollapsed": true
   },
   "source": [
    "### Validación Cruzada"
   ]
  },
  {
   "cell_type": "code",
   "execution_count": 27,
   "id": "0ddac1bf-02a9-4568-88b4-28df15d91615",
   "metadata": {},
   "outputs": [],
   "source": [
    "from sklearn.model_selection import GridSearchCV\n",
    "from sklearn.model_selection import KFold"
   ]
  },
  {
   "cell_type": "code",
   "execution_count": 28,
   "id": "e2702563-5cbe-40db-a7f4-69566f2025e3",
   "metadata": {},
   "outputs": [],
   "source": [
    "# Definir los hiperparámetros a ajustar\n",
    "parameters = {'learning_rate': [0.05, 0.075, 0.1],\n",
    "              'max_depth': [10, 12, 15],\n",
    "              'n_estimators': [70, 80, 100]}"
   ]
  },
  {
   "cell_type": "code",
   "execution_count": 29,
   "id": "05f072b6-96b0-4147-bea6-7ebadcc43161",
   "metadata": {},
   "outputs": [],
   "source": [
    "# Configurar la validación cruzada\n",
    "#kfold = KFold(n_splits=5, shuffle=True, random_state=42)"
   ]
  },
  {
   "cell_type": "code",
   "execution_count": 30,
   "id": "ad93a91f-7322-4087-9ba7-ead33275dd4d",
   "metadata": {
    "scrolled": true
   },
   "outputs": [],
   "source": [
    "# Realizar la búsqueda de parámetros\n",
    "#grid_search = GridSearchCV(estimator=xgboost, param_grid=parameters, cv=kfold, scoring='neg_mean_squared_error', verbose = 3)\n",
    "#grid_result = grid_search.fit(X_train, y_train)"
   ]
  },
  {
   "cell_type": "code",
   "execution_count": 31,
   "id": "dbea5e8f-8a0f-4e77-8970-cc209885506b",
   "metadata": {},
   "outputs": [],
   "source": [
    "# Imprimir los resultados\n",
    "#print(\"Mejor: %f usando %s\" % (grid_result.best_score_, grid_result.best_params_))"
   ]
  },
  {
   "cell_type": "code",
   "execution_count": 32,
   "id": "f2321843-bdfb-47be-951b-d0b65fe59353",
   "metadata": {},
   "outputs": [],
   "source": [
    "kf = KFold(n_splits=5, shuffle=True, random_state=42)\n",
    "X_train_xgb_prueba = X_train.copy()\n",
    "X_train_xgb_prueba = X_train_xgb_prueba.reset_index()\n",
    "y_train_xgb_prueba = y_train.copy()\n",
    "y_train_xgb_prueba = y_train_xgb_prueba.reset_index()\n",
    "\n",
    "\n",
    "X_train_xgb_prueba = X_train_xgb_prueba.drop('index', axis=1)\n",
    "y_train_xgb_prueba = y_train_xgb_prueba.drop('index', axis=1)"
   ]
  },
  {
   "cell_type": "code",
   "execution_count": 35,
   "id": "ed6151af-3a58-49a9-825f-7af37356c1df",
   "metadata": {},
   "outputs": [
    {
     "name": "stdout",
     "output_type": "stream",
     "text": [
      "15\n",
      "20\n",
      "30\n",
      "40\n",
      "50\n",
      "70\n",
      "80\n",
      "100\n",
      "110.29437898989985\n",
      "33.548476268191656\n"
     ]
    }
   ],
   "source": [
    "mse_test_list_total = dict()\n",
    "mse_train_list_total = dict()\n",
    "for i in [15,20,30,40,50,70,80,100]:\n",
    "    print(i)\n",
    "    mse_test_list = []\n",
    "    mse_train_list = []\n",
    "    for train_index, test_index in kf.split(X_train_xgb_prueba):\n",
    "        X_train_cv, X_test_cv = X_train_xgb_prueba.iloc[train_index], X_train_xgb_prueba.iloc[test_index]\n",
    "        y_train_cv, y_test_cv = y_train_xgb_prueba.iloc[train_index], y_train_xgb_prueba.iloc[test_index]\n",
    "        \n",
    "        # Inicializar el modelo de clasificación\n",
    "        xgboost_cv = xgb.XGBRegressor(learning_rate=0.01, max_depth=10, n_estimators=i)\n",
    "    \n",
    "        # Ajustar el modelo con los datos de entrenamiento\n",
    "        xgboost_cv.fit(X_train_cv, y_train_cv)\n",
    "    \n",
    "        # Hacer predicciones en los datos de prueba\n",
    "        y_pred_test_cv = xgboost_cv.predict(X_test_cv)\n",
    "        y_pred_train_cv = xgboost_cv.predict(X_train_cv)\n",
    "    \n",
    "        # Calcular la precisión y agregarla a la lista de puntuaciones\n",
    "        mse_test = mean_squared_error(y_test_cv, y_pred_test_cv)\n",
    "        mse_train = mean_squared_error(y_train_cv, y_pred_train_cv)\n",
    "        #print(y_test_cv)\n",
    "        #print(y_pred_cv)\n",
    "        mse_test_list.append(mse_test)\n",
    "        mse_train_list.append(mse_train)\n",
    "        \n",
    "    mse_cv_test = np.mean(mse_test_list)\n",
    "    mse_test_list_total[i] = mse_cv_test\n",
    "    mse_cv_train = np.mean(mse_train_list)\n",
    "    mse_train_list_total[i] = mse_cv_train\n",
    "print(mse_cv_test)\n",
    "print(mse_cv_train)\n",
    "\n",
    "df_curve = pd.DataFrame(list(mse_test_list_total.items()), columns=['Index', 'ErrorTest'])\n",
    "df_curve_2 = pd.DataFrame(list(mse_train_list_total.items()), columns=['Index', 'ErrorTrain'])\n",
    "df_curve = pd.merge(df_curve,df_curve_2,on='Index',how='left')\n",
    "#df_curve = pd.DataFrame(mse_test_list_total)"
   ]
  },
  {
   "cell_type": "code",
   "execution_count": 36,
   "id": "f63571f8-d269-4195-a016-4e941f4d1e70",
   "metadata": {},
   "outputs": [
    {
     "data": {
      "text/html": [
       "\n",
       "<style>\n",
       "  #altair-viz-2a1d82b57f534cb29b888fa99418f721.vega-embed {\n",
       "    width: 100%;\n",
       "    display: flex;\n",
       "  }\n",
       "\n",
       "  #altair-viz-2a1d82b57f534cb29b888fa99418f721.vega-embed details,\n",
       "  #altair-viz-2a1d82b57f534cb29b888fa99418f721.vega-embed details summary {\n",
       "    position: relative;\n",
       "  }\n",
       "</style>\n",
       "<div id=\"altair-viz-2a1d82b57f534cb29b888fa99418f721\"></div>\n",
       "<script type=\"text/javascript\">\n",
       "  var VEGA_DEBUG = (typeof VEGA_DEBUG == \"undefined\") ? {} : VEGA_DEBUG;\n",
       "  (function(spec, embedOpt){\n",
       "    let outputDiv = document.currentScript.previousElementSibling;\n",
       "    if (outputDiv.id !== \"altair-viz-2a1d82b57f534cb29b888fa99418f721\") {\n",
       "      outputDiv = document.getElementById(\"altair-viz-2a1d82b57f534cb29b888fa99418f721\");\n",
       "    }\n",
       "    const paths = {\n",
       "      \"vega\": \"https://cdn.jsdelivr.net/npm/vega@5?noext\",\n",
       "      \"vega-lib\": \"https://cdn.jsdelivr.net/npm/vega-lib?noext\",\n",
       "      \"vega-lite\": \"https://cdn.jsdelivr.net/npm/vega-lite@5.14.1?noext\",\n",
       "      \"vega-embed\": \"https://cdn.jsdelivr.net/npm/vega-embed@6?noext\",\n",
       "    };\n",
       "\n",
       "    function maybeLoadScript(lib, version) {\n",
       "      var key = `${lib.replace(\"-\", \"\")}_version`;\n",
       "      return (VEGA_DEBUG[key] == version) ?\n",
       "        Promise.resolve(paths[lib]) :\n",
       "        new Promise(function(resolve, reject) {\n",
       "          var s = document.createElement('script');\n",
       "          document.getElementsByTagName(\"head\")[0].appendChild(s);\n",
       "          s.async = true;\n",
       "          s.onload = () => {\n",
       "            VEGA_DEBUG[key] = version;\n",
       "            return resolve(paths[lib]);\n",
       "          };\n",
       "          s.onerror = () => reject(`Error loading script: ${paths[lib]}`);\n",
       "          s.src = paths[lib];\n",
       "        });\n",
       "    }\n",
       "\n",
       "    function showError(err) {\n",
       "      outputDiv.innerHTML = `<div class=\"error\" style=\"color:red;\">${err}</div>`;\n",
       "      throw err;\n",
       "    }\n",
       "\n",
       "    function displayChart(vegaEmbed) {\n",
       "      vegaEmbed(outputDiv, spec, embedOpt)\n",
       "        .catch(err => showError(`Javascript Error: ${err.message}<br>This usually means there's a typo in your chart specification. See the javascript console for the full traceback.`));\n",
       "    }\n",
       "\n",
       "    if(typeof define === \"function\" && define.amd) {\n",
       "      requirejs.config({paths});\n",
       "      require([\"vega-embed\"], displayChart, err => showError(`Error loading script: ${err.message}`));\n",
       "    } else {\n",
       "      maybeLoadScript(\"vega\", \"5\")\n",
       "        .then(() => maybeLoadScript(\"vega-lite\", \"5.14.1\"))\n",
       "        .then(() => maybeLoadScript(\"vega-embed\", \"6\"))\n",
       "        .catch(showError)\n",
       "        .then(() => displayChart(vegaEmbed));\n",
       "    }\n",
       "  })({\"config\": {\"view\": {\"continuousWidth\": 300, \"continuousHeight\": 300}}, \"data\": {\"name\": \"data-b11fa5be07e351b22e2fb43d2986e4e3\"}, \"mark\": {\"type\": \"line\", \"point\": true}, \"encoding\": {\"color\": {\"field\": \"variable\", \"type\": \"nominal\"}, \"x\": {\"field\": \"Index\", \"type\": \"quantitative\"}, \"y\": {\"field\": \"value\", \"type\": \"quantitative\"}}, \"height\": 400, \"title\": \"Gr\\u00e1fico de L\\u00edneas para Columnas A y B\", \"width\": 600, \"$schema\": \"https://vega.github.io/schema/vega-lite/v5.14.1.json\", \"datasets\": {\"data-b11fa5be07e351b22e2fb43d2986e4e3\": [{\"Index\": 15, \"variable\": \"ErrorTest\", \"value\": 111.70660780342357}, {\"Index\": 20, \"variable\": \"ErrorTest\", \"value\": 110.49987765474054}, {\"Index\": 30, \"variable\": \"ErrorTest\", \"value\": 108.7524630225115}, {\"Index\": 40, \"variable\": \"ErrorTest\", \"value\": 107.69125946350991}, {\"Index\": 50, \"variable\": \"ErrorTest\", \"value\": 107.25708458381803}, {\"Index\": 70, \"variable\": \"ErrorTest\", \"value\": 107.98622144665505}, {\"Index\": 80, \"variable\": \"ErrorTest\", \"value\": 108.56037519511389}, {\"Index\": 100, \"variable\": \"ErrorTest\", \"value\": 110.29437898989985}, {\"Index\": 15, \"variable\": \"ErrorTrain\", \"value\": 96.12462313639017}, {\"Index\": 20, \"variable\": \"ErrorTrain\", \"value\": 90.11903309623355}, {\"Index\": 30, \"variable\": \"ErrorTrain\", \"value\": 79.30415933182582}, {\"Index\": 40, \"variable\": \"ErrorTrain\", \"value\": 69.89944993277766}, {\"Index\": 50, \"variable\": \"ErrorTrain\", \"value\": 61.702457841856926}, {\"Index\": 70, \"variable\": \"ErrorTrain\", \"value\": 48.26326996176933}, {\"Index\": 80, \"variable\": \"ErrorTrain\", \"value\": 42.71342976259159}, {\"Index\": 100, \"variable\": \"ErrorTrain\", \"value\": 33.548476268191656}]}}, {\"mode\": \"vega-lite\"});\n",
       "</script>"
      ],
      "text/plain": [
       "alt.Chart(...)"
      ]
     },
     "execution_count": 36,
     "metadata": {},
     "output_type": "execute_result"
    }
   ],
   "source": [
    "# Supongamos que tienes un DataFrame llamado 'df' con columnas \"indice\", \"columna_A\" y \"columna_B\"\n",
    "\n",
    "# Convertir el DataFrame de pandas a un formato aceptado por Altair\n",
    "df_altair = pd.melt(df_curve, id_vars=['Index'], value_vars=['ErrorTest', 'ErrorTrain'])\n",
    "\n",
    "# Crear el gráfico de líneas divididas por color en Altair\n",
    "line_chart = alt.Chart(df_altair).mark_line(point=True).encode(\n",
    "    x='Index:Q',\n",
    "    y='value:Q',\n",
    "    color='variable:N'\n",
    ").properties(\n",
    "    width=600,\n",
    "    height=400,\n",
    "    title='Gráfico de Líneas para Columnas A y B'\n",
    ")\n",
    "\n",
    "# Mostrar el gráfico\n",
    "line_chart"
   ]
  },
  {
   "cell_type": "markdown",
   "id": "5f725d79-7dee-4e44-9160-f910e4859373",
   "metadata": {},
   "source": [
    "## Redes Neuronales\n",
    "\n",
    "RMSE: 0.24"
   ]
  },
  {
   "cell_type": "code",
   "execution_count": 16,
   "id": "c8e05550-7e6d-4f91-ba7c-67253546b655",
   "metadata": {},
   "outputs": [],
   "source": [
    "from sklearn.neural_network import MLPRegressor\n",
    "from sklearn.model_selection import train_test_split\n",
    "from sklearn.preprocessing import StandardScaler\n",
    "from sklearn.model_selection import KFold"
   ]
  },
  {
   "cell_type": "code",
   "execution_count": 17,
   "id": "a37b8371-cba9-44cc-b3dd-db0f8ff432a0",
   "metadata": {},
   "outputs": [],
   "source": [
    "X_train_NN = X_train.drop('index',axis=1)\n",
    "#X_test_NN = X_test#.drop('index',axis=1)"
   ]
  },
  {
   "cell_type": "code",
   "execution_count": 18,
   "id": "5e6cd0ef-77b9-47bc-9361-1edcf045cbe6",
   "metadata": {},
   "outputs": [],
   "source": [
    "scaler_NN = StandardScaler()\n",
    "X_train_scaled_NN = scaler_NN.fit_transform(X_train_NN)\n",
    "#X_test_scaled_NN = scaler.transform(X_test_NN)"
   ]
  },
  {
   "cell_type": "code",
   "execution_count": 21,
   "id": "8d6b1244-bcca-4292-9387-94fe13991d90",
   "metadata": {},
   "outputs": [],
   "source": [
    "# Definir el modelo de redes neuronales para regresión\n",
    "model_NN = MLPRegressor(hidden_layer_sizes=(100,200,200,200,100,), activation='relu', alpha=0.01, solver='adam',random_state=42, max_iter=65,learning_rate_init=0.0005)"
   ]
  },
  {
   "cell_type": "code",
   "execution_count": 22,
   "id": "feaddfd9-bbb1-4ae5-9472-87edb7938447",
   "metadata": {
    "scrolled": true
   },
   "outputs": [
    {
     "name": "stdout",
     "output_type": "stream",
     "text": [
      "1\n",
      "2\n",
      "3\n",
      "4\n",
      "5\n",
      "6\n",
      "7\n",
      "8\n",
      "9\n",
      "10\n",
      "11\n",
      "12\n",
      "13\n",
      "14\n",
      "15\n",
      "16\n",
      "17\n",
      "18\n",
      "19\n",
      "20\n",
      "21\n",
      "22\n",
      "23\n",
      "24\n",
      "25\n",
      "26\n",
      "27\n",
      "28\n",
      "29\n",
      "30\n",
      "31\n",
      "32\n",
      "33\n",
      "34\n",
      "35\n",
      "36\n",
      "37\n",
      "38\n",
      "39\n",
      "40\n",
      "41\n",
      "42\n",
      "43\n",
      "44\n",
      "45\n",
      "46\n",
      "47\n",
      "48\n",
      "49\n",
      "50\n",
      "51\n",
      "52\n",
      "53\n",
      "54\n",
      "55\n",
      "56\n",
      "57\n",
      "58\n",
      "59\n",
      "60\n",
      "61\n",
      "62\n",
      "63\n",
      "64\n",
      "65\n",
      "66\n",
      "67\n",
      "68\n",
      "69\n"
     ]
    }
   ],
   "source": [
    "#mse_train_list = []\n",
    "#mse_test_list = []\n",
    "for i in range(1,70):\n",
    "    print(i)\n",
    "\n",
    "    model_NN.partial_fit(X_train_scaled_NN, y_train)\n",
    "    # Hacer predicciones en el conjunto de prueba\n",
    "    #y_pred_train = model.predict(X_train_scaled_NN)\n",
    "    #y_pred_test = model.predict(X_test_scaled_NN)\n",
    "    #mse_train = mean_squared_error(y_train, y_pred_train)\n",
    "    #mse_train_list.append(mse_train)\n",
    "    #mse_test = mean_squared_error(y_test, y_pred_test)\n",
    "    #mse_test_list.append(mse_test)\n",
    "\n",
    "#df_curve = pd.DataFrame()\n",
    "#df_curve['train'] = mse_train_list\n",
    "#df_curve['test'] = mse_test_list\n",
    "#df_curve = df_curve.reset_index()\n"
   ]
  },
  {
   "cell_type": "markdown",
   "id": "b96db69f-f8c6-4aff-a808-a73e15b011f6",
   "metadata": {},
   "source": [
    "## Exportar Modelos"
   ]
  },
  {
   "cell_type": "code",
   "execution_count": 23,
   "id": "9d5ea712-2589-4729-bcca-f193b44d4383",
   "metadata": {},
   "outputs": [
    {
     "data": {
      "text/plain": [
       "['scaler_NN_model_CPV_v4.joblib']"
      ]
     },
     "execution_count": 23,
     "metadata": {},
     "output_type": "execute_result"
    }
   ],
   "source": [
    "import joblib\n",
    "joblib.dump(scaler, nombre_scaler)  # nombre_scaler = 'scaler_model_CPC_v3.joblib'\n",
    "joblib.dump(pca, nombre_pca)  # nombre_pca = 'pca_model_CPC_v3.joblib'\n",
    "\n",
    "joblib.dump(rf, nombre_RF) # nombre_RF = 'model_rf_CPC_v3.joblib'\n",
    "xgboost.save_model(nombre_XGB) # nombre_XGB = 'model_xgboost_v3.json'\n",
    "joblib.dump(model_NN, nombre_NN)  # nombre_NN = 'model_NN_CPC_v3.joblib'\n",
    "joblib.dump(scaler_NN, nombre_scaler_NN)  # nombre_scaler_NN = 'scaler_NN_model_CPC_v3.joblib'"
   ]
  },
  {
   "cell_type": "code",
   "execution_count": null,
   "id": "bfb684bf-0ac6-4ef5-bce5-19c832c0f125",
   "metadata": {},
   "outputs": [],
   "source": []
  },
  {
   "cell_type": "code",
   "execution_count": null,
   "id": "95ffbeb3-5cd1-4ba5-bc27-f061c6c00c71",
   "metadata": {},
   "outputs": [],
   "source": []
  },
  {
   "cell_type": "code",
   "execution_count": null,
   "id": "e7bf8103-4f63-4810-82df-356d8fea51ef",
   "metadata": {},
   "outputs": [],
   "source": []
  },
  {
   "cell_type": "code",
   "execution_count": null,
   "id": "62dc118c-8bf8-41f8-8002-a9d78c05617a",
   "metadata": {},
   "outputs": [],
   "source": []
  },
  {
   "cell_type": "code",
   "execution_count": null,
   "id": "b0e6474d-9a0f-47de-b378-eab2de2c3d63",
   "metadata": {},
   "outputs": [],
   "source": []
  },
  {
   "cell_type": "code",
   "execution_count": null,
   "id": "22539677-818a-4c8b-a50f-9c14ab8f96c3",
   "metadata": {},
   "outputs": [],
   "source": []
  },
  {
   "cell_type": "code",
   "execution_count": null,
   "id": "d05995fe-6692-4101-a72a-f4ceeb770cf2",
   "metadata": {},
   "outputs": [],
   "source": []
  },
  {
   "cell_type": "code",
   "execution_count": null,
   "id": "0b972a80-f5d6-4e8f-a5c1-ca624fc23229",
   "metadata": {},
   "outputs": [],
   "source": []
  },
  {
   "cell_type": "code",
   "execution_count": null,
   "id": "d162f8f7-0a57-48bf-96c4-efe8ddb9f488",
   "metadata": {},
   "outputs": [],
   "source": []
  },
  {
   "cell_type": "code",
   "execution_count": null,
   "id": "0417ee5c-cf34-4981-a855-58171236c953",
   "metadata": {},
   "outputs": [],
   "source": []
  },
  {
   "cell_type": "markdown",
   "id": "8385c354-1831-42c8-803d-6c340d10aead",
   "metadata": {},
   "source": [
    "### Pruebas"
   ]
  },
  {
   "cell_type": "code",
   "execution_count": 275,
   "id": "831c6f3b-a4b6-4ff9-a3a8-5477ebf30072",
   "metadata": {},
   "outputs": [],
   "source": [
    "variables_modelo= rf.feature_names_in_"
   ]
  },
  {
   "cell_type": "code",
   "execution_count": 308,
   "id": "492edb5f-443a-4667-b1a3-8fb1a1133261",
   "metadata": {},
   "outputs": [],
   "source": [
    "data = {\n",
    "'Año': [2023],\n",
    "'Mes': [11],\n",
    "'Objective': ['Purchase'],\n",
    "'Cost': [250],\n",
    "'Country': ['USA'],\n",
    "'Media_type': ['Search'],\n",
    "'Traffic_source': ['Google'],\n",
    "'Client': ['Braun'],\n",
    "'Format_New': ['Video'],\n",
    "'Platform': ['Google Ads'],\n",
    "'Strategy': ['Consideration'],\n",
    "'Plataforma': ['Google Ads'],\n",
    "'Campaign_Type': ['SEARCH'],\n",
    "'Ecommerce': ['Si'],\n",
    "'Service_Product': ['Serv'],\n",
    "'Bench Gral CPC': [4.22],\n",
    "'Bench Search CPC': [6.55],\n",
    "'Bench GralSch CPL':[ 53.52],\n",
    "'Bench Search CPL':[ 66.02],\n",
    "'Bench GralSch CTR': [6.11],\n",
    "'Bench Search CTR': [4.8],\n",
    "'Bench GralSch CR': [7.04],\n",
    "'Bench Search AvgCR': [10.22],\n",
    "'Bench GralFB CPC': [1.86],\n",
    "'Bench FB CPC': [3.08],\n",
    "'Bench GralFB CPAction': [18.68],\n",
    "'Bench FB CPAction': [31.11],\n",
    "'Bench GralFB CTR': [0.9],\n",
    "'Bench FB CTR': [0.62],\n",
    "'Bench GralFB CR': [9.21],\n",
    "'Bench FB AvgCR': [9.96],\n",
    "'Bench GralYT CPV': [0.048],\n",
    "'Bench YT CPV': [0.048],\n",
    "'Bench GralYT CTR': [0.65],\n",
    "'Bench YT CTR': [0.33],\n",
    "'Bench GralYT VR': [31.9],\n",
    "'Bench FB AvgVR': [31.9]\n",
    "}"
   ]
  },
  {
   "cell_type": "code",
   "execution_count": 309,
   "id": "141b223d-a6e3-42b4-938a-e86418080809",
   "metadata": {},
   "outputs": [],
   "source": [
    "new_data = pd.DataFrame(data)"
   ]
  },
  {
   "cell_type": "code",
   "execution_count": 310,
   "id": "aecbfa75-c44f-4385-938e-851c6975e561",
   "metadata": {},
   "outputs": [],
   "source": [
    "# Preprocesamiento de variables categóricas\n",
    "X = pd.get_dummies(new_data, columns=categorical_features)\n",
    "\n",
    "# Asegurarte de que 'new_data_encoded' tenga las mismas columnas que se utilizaron durante el entrenamiento\n",
    "for col in variables_modelo:\n",
    "    if col not in X.columns:\n",
    "        X[col] = False  # Agregar la columna faltante con valores predeterminados si es necesario  \n",
    "\n",
    "X = X[variables_modelo]\n",
    "X.columns = [str(i) for i in X.columns]"
   ]
  },
  {
   "cell_type": "code",
   "execution_count": 311,
   "id": "e891a7fb-5b3f-4f03-8c58-184ccd2ca188",
   "metadata": {},
   "outputs": [],
   "source": [
    "X_CPV = X.copy()\n",
    "X_CPV = X_CPV[scaler_NN.feature_names_in_]"
   ]
  },
  {
   "cell_type": "code",
   "execution_count": 312,
   "id": "e59ffa55-f18d-47e5-a1ca-1c58628f3084",
   "metadata": {},
   "outputs": [],
   "source": [
    "for col in rf.feature_names_in_:\n",
    "    if col not in X_CPV.columns:\n",
    "        X_CPV[col] = False  # Agregar la columna faltante con valores predeterminados si es necesario\n",
    "        print(col)"
   ]
  },
  {
   "cell_type": "code",
   "execution_count": 313,
   "id": "6e9c18c3-f7e2-4246-9e9f-7cc71dc659d3",
   "metadata": {},
   "outputs": [],
   "source": [
    "X_Scaled = scaler.transform(X_CPV[['Año','Mes','Cost','Bench Gral CPC','Bench Search CPC', 'Bench GralSch CPL', 'Bench Search CPL','Bench GralSch CTR', 'Bench Search CTR', 'Bench GralSch CR',\n",
    "                                      'Bench Search AvgCR','Bench GralFB CPC', 'Bench FB CPC','Bench GralFB CPAction', 'Bench FB CPAction', 'Bench GralFB CTR','Bench FB CTR',\n",
    "                                      'Bench GralFB CR', 'Bench FB AvgCR', 'Bench GralYT CPV', 'Bench YT CPV', 'Bench GralYT CTR', 'Bench YT CTR','Bench GralYT VR', 'Bench FB AvgVR']])\n",
    "X_pca = pca.transform(X_Scaled)\n",
    "X_pca = pd.DataFrame(X_pca)\n",
    "X_CPV['X_pca_0'] = X_pca[0]\n",
    "X_CPV['X_pca_1'] = X_pca[1]\n",
    "\n",
    "X_CPV = X_CPV[scaler_NN.feature_names_in_]\n",
    "X_CPV.columns = [str(i) for i in X_CPV.columns]\n",
    "X_NN_CPV = scaler_NN.transform(X_CPV)"
   ]
  },
  {
   "cell_type": "code",
   "execution_count": 314,
   "id": "6b36cc02-ef29-422e-b872-a5ee9a40fd23",
   "metadata": {},
   "outputs": [],
   "source": [
    "def prediccion_modelo(modelo,X):\n",
    "    return modelo.predict(X)"
   ]
  },
  {
   "cell_type": "code",
   "execution_count": 315,
   "id": "fd4a3f93-8dd7-4e56-a6da-c2815bdd16b6",
   "metadata": {},
   "outputs": [],
   "source": [
    "pred_RF_CPV = prediccion_modelo(rf,X_CPV)[0]\n",
    "pred_XGB_CPV = prediccion_modelo(xgboost,X_CPV)[0]\n",
    "pred_NN_CPV = prediccion_modelo(model_NN,X_NN_CPV)[0]"
   ]
  },
  {
   "cell_type": "code",
   "execution_count": 316,
   "id": "236d65e6-6859-40fc-b5ac-86f43810c540",
   "metadata": {},
   "outputs": [
    {
     "name": "stdout",
     "output_type": "stream",
     "text": [
      "0.4800753151844797\n",
      "1.1601338\n",
      "17.108648407128484\n"
     ]
    }
   ],
   "source": [
    "print(pred_RF_CPV)\n",
    "print(pred_XGB_CPV)\n",
    "print(pred_NN_CPV)"
   ]
  }
 ],
 "metadata": {
  "kernelspec": {
   "display_name": "Python 3 (ipykernel)",
   "language": "python",
   "name": "python3"
  },
  "language_info": {
   "codemirror_mode": {
    "name": "ipython",
    "version": 3
   },
   "file_extension": ".py",
   "mimetype": "text/x-python",
   "name": "python",
   "nbconvert_exporter": "python",
   "pygments_lexer": "ipython3",
   "version": "3.11.6"
  }
 },
 "nbformat": 4,
 "nbformat_minor": 5
}
